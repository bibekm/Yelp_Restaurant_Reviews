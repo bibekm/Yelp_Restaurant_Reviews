{
 "cells": [
  {
   "cell_type": "markdown",
   "metadata": {},
   "source": [
    "# Yelp Restaurants Reviews Classification and Topics Recognition"
   ]
  },
  {
   "cell_type": "markdown",
   "metadata": {},
   "source": [
    "## Import all necessary modules and set paths"
   ]
  },
  {
   "cell_type": "code",
   "execution_count": 21,
   "metadata": {
    "scrolled": true
   },
   "outputs": [],
   "source": [
    "%matplotlib inline\n",
    "import numpy as np\n",
    "import scipy as sp\n",
    "import matplotlib as mpl\n",
    "import matplotlib.cm as cm\n",
    "import matplotlib.pyplot as plt\n",
    "import pandas as pd\n",
    "import seaborn as sns\n",
    "from six.moves import range\n",
    "import json\n",
    "\n",
    "import os\n",
    "from collections import Counter\n",
    "from gensim import corpora\n",
    "from gensim.models import LsiModel\n",
    "from nltk.tokenize import RegexpTokenizer\n",
    "from nltk.corpus import stopwords\n",
    "from nltk.stem.porter import PorterStemmer\n",
    "from gensim.models.coherencemodel import CoherenceModel\n",
    "\n",
    "# Text Analytics\n",
    "import nltk\n",
    "from nltk.tokenize import word_tokenize\n",
    "from wordcloud import WordCloud\n",
    "\n",
    "# Cross Validation\n",
    "from sklearn.model_selection import KFold\n",
    "from sklearn.model_selection import ShuffleSplit\n",
    "from sklearn.metrics import accuracy_score, f1_score, confusion_matrix\n",
    "\n",
    "from imblearn.over_sampling import SMOTE # Upsampling\n",
    "\n",
    "#Machine Learning\n",
    "from sklearn.model_selection import train_test_split\n",
    "from sklearn.naive_bayes import MultinomialNB\n",
    "\n",
    "\n",
    "# import the garbage collection\n",
    "import gc\n",
    "\n",
    "# Setup Seaborn\n",
    "sns.set_style(\"whitegrid\")\n",
    "sns.set_context(\"poster\")\n",
    "\n",
    "from sklearn.naive_bayes import MultinomialNB\n",
    "from sklearn import metrics\n",
    "from sklearn.model_selection import train_test_split\n",
    "from sklearn.feature_extraction.text import CountVectorizer\n",
    "\n",
    "#Set maximum number of rows,columns to be shown. Maximum column width made to 500.\n",
    "pd.set_option('display.max_columns', 500)\n",
    "pd.set_option('display.max_rows', 500)\n",
    "pd.set_option('display.max_colwidth', 500)\n",
    "pd.set_option('display.notebook_repr_html', True)"
   ]
  },
  {
   "cell_type": "code",
   "execution_count": 4,
   "metadata": {
    "scrolled": true
   },
   "outputs": [],
   "source": [
    "os.chdir(\"C:\\Master\\PD_Career\\Courses\\Springboard\\Capstone Project 2\")\n",
    "\n",
    "#data directory\n",
    "data_path = \"yelp-datasets/\"\n",
    "intermediate_data_path = \"yelp-datasets/intermediate/\"\n",
    "source_data_path = \"yelp-datasets/source/\"\n",
    "submit_data_path = \"yelp-datasets/submit/\""
   ]
  },
  {
   "cell_type": "markdown",
   "metadata": {},
   "source": [
    "## Data Preview\n",
    "First, We will preview the datasets by exploring how the data is stored in the source files. <br>."
   ]
  },
  {
   "cell_type": "code",
   "execution_count": 3,
   "metadata": {
    "scrolled": true
   },
   "outputs": [
    {
     "name": "stdout",
     "output_type": "stream",
     "text": [
      "{\"business_id\":\"1SWheh84yJXfytovILXOAQ\",\"name\":\"Arizona Biltmore Golf Club\",\"address\":\"2818 E Camino Acequia Drive\",\"city\":\"Phoenix\",\"state\":\"AZ\",\"postal_code\":\"85016\",\"latitude\":33.5221425,\"longitude\":-112.0184807,\"stars\":3.0,\"review_count\":5,\"is_open\":0,\"attributes\":{\"GoodForKids\":\"False\"},\"categories\":\"Golf, Active Life\",\"hours\":null}\n",
      "\n"
     ]
    }
   ],
   "source": [
    "with open(source_data_path+\"yelp_academic_dataset_business.json\", encoding='utf_8') as business_json_file:\n",
    "    print(business_json_file.readline())"
   ]
  },
  {
   "cell_type": "code",
   "execution_count": 4,
   "metadata": {
    "scrolled": true
   },
   "outputs": [
    {
     "name": "stdout",
     "output_type": "stream",
     "text": [
      "{\"review_id\":\"Q1sbwvVQXV2734tPgoKj4Q\",\"user_id\":\"hG7b0MtEbXx5QzbzE6C_VA\",\"business_id\":\"ujmEBvifdJM6h6RLv4wQIg\",\"stars\":1.0,\"useful\":6,\"funny\":1,\"cool\":0,\"text\":\"Total bill for this horrible service? Over $8Gs. These crooks actually had the nerve to charge us $69 for 3 pills. I checked online the pills can be had for 19 cents EACH! Avoid Hospital ERs at all costs.\",\"date\":\"2013-05-07 04:34:36\"}\n",
      "\n"
     ]
    }
   ],
   "source": [
    "with open(source_data_path+\"yelp_academic_dataset_review.json\", encoding='utf_8') as review_json_file:\n",
    "    print(review_json_file.readline())"
   ]
  },
  {
   "cell_type": "markdown",
   "metadata": {},
   "source": [
    "From the below two previews, it is evident that each row of the dataset is stored in json format. <br>\n",
    "Let's look at a few business categories to check the types of establishments in yelp dataset. <br>\n",
    "We will also be devising few categories for restaurants we would like to study further in the project. <br> "
   ]
  },
  {
   "cell_type": "code",
   "execution_count": 5,
   "metadata": {
    "scrolled": true
   },
   "outputs": [
    {
     "name": "stdout",
     "output_type": "stream",
     "text": [
      "Golf, Active Life\n",
      "Specialty Food, Restaurants, Dim Sum, Imported Food, Food, Chinese, Ethnic Food, Seafood\n",
      "Sushi Bars, Restaurants, Japanese\n",
      "Insurance, Financial Services\n",
      "Plumbing, Shopping, Local Services, Home Services, Kitchen & Bath, Home & Garden, Water Heater Installation/Repair\n",
      "Shipping Centers, Couriers & Delivery Services, Local Services, Printing Services\n",
      "Beauty & Spas, Hair Salons\n",
      "Hair Salons, Hair Stylists, Barbers, Men's Hair Salons, Cosmetics & Beauty Supply, Shopping, Beauty & Spas\n",
      "Nail Salons, Beauty & Spas, Day Spas\n",
      "Beauty & Spas, Nail Salons, Day Spas, Massage\n",
      "Local Services, Professional Services, Computers, Shopping, Home Services, IT Services & Computer Repair, Internet Service Providers, Web Design\n",
      "Restaurants, Breakfast & Brunch, Mexican, Tacos, Tex-Mex, Fast Food\n",
      "Bars, Nightlife, Pubs, Barbers, Beauty & Spas, Irish Pub\n",
      "Italian, Restaurants, Pizza, Chicken Wings\n",
      "Bakeries, Food\n",
      "Fitness & Instruction, Active Life, Yoga\n",
      "Hair Stylists, Beauty & Spas, Hair Salons, Men's Hair Salons\n",
      "Restaurants, Italian\n",
      "Event Planning & Services, Photographers, Professional Services\n",
      "Trainers, Health & Medical, Active Life, Physical Therapy, Gyms, Fitness & Instruction\n",
      "Arcades, Arts & Entertainment\n",
      "Automotive, Car Dealers\n",
      "Nightlife, Arts & Entertainment, Bars, Strip Clubs, Adult Entertainment, Dance Clubs\n",
      "Sandwiches, Salad, Restaurants, Burgers, Comfort Food\n",
      "Women's Clothing, Shopping, Accessories, Fashion, Shoe Stores\n",
      "Mexican, Restaurants, Patisserie/Cake Shop, Food, Bars, Nightlife\n",
      "Bakeries, Food\n",
      "Fashion, Sporting Goods, Men's Clothing, Shopping, Sports Wear\n",
      "Car Rental, Windshield Installation & Repair, Auto Detailing, Hotels & Travel, Automotive, Towing, Body Shops\n",
      "Juice Bars & Smoothies, Food, Restaurants, Fast Food, Vegan\n",
      "Shopping, Home & Garden, Department Stores, Men's Clothing, Fashion, Women's Clothing, Discount Store, Home Decor\n",
      "Automotive, Auto Repair\n",
      "Restaurants, Nightlife, Breakfast & Brunch, Vegan, Food, Tapas Bars, Bars, Southern, Coffee & Tea\n",
      "Juice Bars & Smoothies, Food, Ice Cream & Frozen Yogurt\n",
      "Home Services, Real Estate, Financial Services, Banks & Credit Unions, Mortgage Brokers\n",
      "Sandwiches, Italian, American (Traditional), American (New), Seafood, Steakhouses, Restaurants\n",
      "Beauty & Spas, Barbers\n",
      "Home Services, Real Estate, Apartments, Hotels & Travel, Vacation Rentals\n",
      "Medical Centers, Doctors, Obstetricians & Gynecologists, Health & Medical\n",
      "Auto Glass Services, Auto Detailing, Automotive, Auto Parts & Supplies, Auto Customization, Vehicle Wraps\n",
      "Shopping, Home Services, Interior Design, Rugs, Furniture Stores, Home & Garden, Home Decor, Mattresses\n",
      "Real Estate, Home Services, Mortgage Brokers, Real Estate Services\n",
      "Home Services, Real Estate, Apartments\n",
      "Local Services, Food Banks, Community Service/Non-Profit\n",
      "Massage Therapy, Massage, Health & Medical, Beauty & Spas\n",
      "Chinese, Dim Sum, Restaurants\n",
      "Children's Clothing, Accessories, Used, Vintage & Consignment, Fashion, Women's Clothing, Shopping\n",
      "Food, Desserts, Juice Bars & Smoothies, Ice Cream & Frozen Yogurt\n",
      "Hotels & Travel, Hotels, Event Planning & Services\n",
      "Health & Medical, Endodontists, Dentists\n",
      "Restaurants, Breakfast & Brunch, Bars, Modern European, Nightlife, Wine Bars\n",
      "Home & Garden, Mattresses, Home Decor, Furniture Stores, Shopping\n",
      "Arts & Entertainment, Dance Clubs, Nightlife, Music Venues\n",
      "Desserts, Food, Cupcakes, Bakeries\n",
      "Convenience Stores, Automotive, Food, Gas Stations, Grocery\n",
      "Home Services, Heating & Air Conditioning/HVAC\n",
      "Health & Medical, Medical Centers\n",
      "Parks, Active Life\n",
      "Coffee & Tea, Hookah Bars, Nightlife, Persian/Iranian, Country Dance Halls, Middle Eastern, Beer, Wine & Spirits, Bars, Restaurants, Food, Lounges, Delis\n",
      "Beauty & Spas, Hair Salons, Kids Hair Salons\n",
      "Shopping, Jewelry\n",
      "Fish & Chips, Restaurants\n",
      "Active Life, Golf\n",
      "Men's Clothing, Sporting Goods, Shopping, Fashion, Women's Clothing, Sports Wear\n",
      "Financial Services, Banks & Credit Unions\n",
      "Beauty & Spas, Skin Care, Tanning Beds, Hair Salons, Tanning\n",
      "Nightlife, Bars, Polish, Modern European, Restaurants, Vegan\n",
      "Shopping, Women's Clothing, Fashion\n",
      "Caterers, Event Planning & Services\n",
      "Tree Services, Landscape Architects, Home Services, Landscaping, Lawn Services\n",
      "Hair Loss Centers, Beauty & Spas, Hair Stylists, Hair Salons\n",
      "Restaurants, Korean\n",
      "Interior Design, Contractors, Hardware Stores, Building Supplies, Home & Garden, Paint Stores, Home Services, Shopping, Painters\n",
      "Japanese, Sushi Bars, Restaurants\n",
      "General Dentistry, Health & Medical, Dentists\n",
      "Fast Food, Food, Restaurants, Ice Cream & Frozen Yogurt\n",
      "Eyebrow Services, Hair Salons, Day Spas, Nail Salons, Beauty & Spas\n",
      "American (Traditional), Restaurants\n",
      "Chinese, Restaurants\n",
      "Home Decor, Cosmetics & Beauty Supply, Health & Medical, Home & Garden, Herbal Shops, Beauty & Spas, Food, Nurseries & Gardening, Spiritual Shop, Shopping\n",
      "Nightlife, Italian, Restaurants, Japanese, Lounges, Bars\n",
      "Sandwiches, Desserts, Custom Cakes, Bakeries, Patisserie/Cake Shop, Cafes, Restaurants, Food, Breakfast & Brunch, Coffee & Tea\n",
      "Canadian (New), Portuguese, Restaurants\n",
      "Italian, Restaurants\n",
      "Parks, Active Life\n",
      "General Dentistry, Dentists, Oral Surgeons, Cosmetic Dentists, Health & Medical, Orthodontists\n",
      "Automotive, Auto Repair, Tires\n",
      "Home Services, Auto Glass Services, Windows Installation, Windshield Installation & Repair, Auto Parts & Supplies, Automotive\n",
      "Shopping, Discount Store\n",
      "Beauty & Spas, Nail Salons\n",
      "Health & Medical, Dentists, General Dentistry\n",
      "Medical Centers, Beauty & Spas, Naturopathic/Holistic, Weight Loss Centers, Doctors, Medical Spas, Health & Medical, Nutritionists\n",
      "Landmarks & Historical Buildings, Mediterranean, Public Services & Government, Restaurants\n",
      "Accessories, Shopping, Fashion, Jewelry, Leather Goods\n",
      "Professional Services, Life Coach\n",
      "Hospitals, Doctors, Rehabilitation Center, Medical Centers, Health & Medical\n",
      "Tex-Mex, Mexican, Restaurants\n",
      "Bakeries, Food, Event Planning & Services, Desserts\n",
      "Hair Stylists, Makeup Artists, Hair Salons, Permanent Makeup, Hair Extensions, Beauty & Spas\n",
      "Property Management, Home Services, Real Estate\n",
      "Beauty & Spas, Hair Salons\n",
      "Food, Donuts\n",
      "Doctors, Family Practice, Health & Medical\n",
      "Libraries, Educational Services, Education, Books, Mags, Music & Video, Shopping, Bookstores, Public Services & Government\n",
      "Beer, Wine & Spirits, Food\n",
      "Cosmetics & Beauty Supply, Hair Stylists, Beauty & Spas, Shopping, Hair Salons\n",
      "Shopping, Fashion, Home & Garden, Department Stores, Women's Clothing, Home Decor, Men's Clothing\n",
      "Grocery, Restaurants, Steakhouses, Butcher, Food\n",
      "Banks & Credit Unions, Financial Services\n",
      "Nail Salons, Beauty & Spas\n",
      "Shopping, Floral Designers, Event Planning & Services, Florists, Flowers & Gifts\n",
      "Restaurants, Chinese\n",
      "Funeral Services & Cemeteries, Local Services\n",
      "Restaurants, Pubs, Bars, Nightlife, American (Traditional), Beer Gardens\n",
      "Hair Stylists, Nail Technicians, Beauty & Spas, Makeup Artists, Nail Salons, Hair Salons\n",
      "American (Traditional), Breakfast & Brunch, Restaurants, Burgers, Fast Food\n",
      "Middle Eastern, Restaurants, Salad, Breakfast & Brunch\n",
      "Local Services, Bike Repair/Maintenance\n",
      "Education, Paint & Sip, Arts & Crafts, Arts & Entertainment, Art Classes, Hobby Shops, Event Planning & Services, Party & Event Planning, Shopping, Venues & Event Spaces\n",
      "Sandwiches, Cafes, Food, Restaurants, Coffee & Tea\n",
      "Pubs, Restaurants, Bars, Event Planning & Services, American (Traditional), Nightlife, Lounges, Venues & Event Spaces, Sports Bars\n",
      "Sushi Bars, Restaurants\n",
      "Nightlife, Comedy Clubs\n",
      "Graphic Design, Printing Services, Web Design, Local Services, Professional Services\n",
      "Beauty & Spas, Nail Salons\n",
      "Desserts, Ice Cream & Frozen Yogurt, Food, Restaurants, Vegan\n",
      "Community Service/Non-Profit, Local Services\n",
      "Chiropractors, Health & Medical\n",
      "Food, Coffee & Tea\n",
      "Hotels, Event Planning & Services, Hotels & Travel, Venues & Event Spaces\n",
      "Home Services, Handyman, Painters, Contractors\n",
      "Security Systems, Home Services\n",
      "Traditional Chinese Medicine, Health & Medical, Acupuncture\n",
      "Restaurants, Food, Cafes\n",
      "Accessories, Fashion, Women's Clothing, Plus Size Fashion, Shopping\n",
      "Restaurants, Pizza, Italian, American (New)\n",
      "Heating & Air Conditioning/HVAC, Contractors, Home Services\n",
      "Donuts, Coffee & Tea, Juice Bars & Smoothies, Food\n",
      "Jewelry Repair, Jewelry, Watches, Shopping, Local Services\n",
      "Restaurants, Vietnamese\n",
      "American (New), Bars, Wine Bars, Nightlife, Restaurants\n",
      "Restaurants, Thai\n",
      "Doctors, Diagnostic Services, Health & Medical, Diagnostic Imaging, Radiologists\n",
      "Airports, Hotels, Event Planning & Services, Hotels & Travel, Venues & Event Spaces\n",
      "Auto Detailing, Car Wash, Body Shops, Automotive, Auto Repair, Auto Glass Services\n",
      "Taxis, Limos, Transportation, Airport Shuttles, Hotels & Travel\n",
      "Restaurants, Mexican\n",
      "Restaurants, Caribbean\n",
      "Art Galleries, Used, Vintage & Consignment, Shopping, Furniture Stores, Home & Garden, Home Decor, Arts & Entertainment, Fashion\n",
      "Pizza, Caterers, Restaurants, Event Planning & Services\n",
      "Local Services, Education, Child Care & Day Care, Preschools\n",
      "Lawyers, Divorce & Family Law, Personal Injury Law, Professional Services\n",
      "Painters, Home Services, Roofing, Handyman\n",
      "Dentists, General Dentistry, Endodontists, Cosmetic Dentists, Health & Medical\n",
      "Shopping, Eyewear & Opticians, Health & Medical, Optometrists\n",
      "Insurance, Financial Services\n",
      "Ethnic Food, American (New), Burgers, Food, Restaurants, Asian Fusion, Specialty Food, Mexican, Sandwiches, Breakfast & Brunch, Korean\n",
      "Caterers, Hot Dogs, Restaurants, Vegetarian, American (Traditional), Event Planning & Services\n",
      "Automotive, Auto Repair\n",
      "Soup, Restaurants, Sandwiches\n",
      "Antiques, Shopping, Local Services, Thrift Stores, Community Service/Non-Profit\n",
      "Health & Medical, Internal Medicine, Doctors\n",
      "Seafood, Restaurants\n",
      "Restaurants, Pizza\n",
      "Kitchen & Bath, Shopping, Home & Garden, Painters, Contractors, Flooring, Cabinetry, Home Services, Home Decor, Interior Design\n",
      "Food, Grocery, Convenience Stores\n",
      "Restaurants, Breakfast & Brunch, Sandwiches, Food, Coffee & Tea\n",
      "Arts & Entertainment, Employment Agencies, Talent Agencies, Performing Arts, Professional Services\n",
      "Sewing & Alterations, Local Services, Fashion, Bridal, Clothing Rental, Formal Wear, Shopping\n",
      "Meat Shops, Food, Specialty Food\n",
      "General Dentistry, Oral Surgeons, Dentists, Health & Medical\n",
      "Veterinarians, Pets\n",
      "Restaurants, Mexican, Ethnic Food, Specialty Food, Food\n",
      "Food, Pizza, Wine Bars, Bars, Restaurants, Nightlife\n",
      "French, Restaurants, Creperies\n",
      "Bookstores, Books, Mags, Music & Video, Shopping, Newspapers & Magazines\n",
      "Buffets, Restaurants\n",
      "Fast Food, Sandwiches, Restaurants\n",
      "Restaurants, Beer Gardens, Nightlife, Burgers\n",
      "IT Services & Computer Repair, Local Services, Shopping, Professional Services, Computers, Video/Film Production\n",
      "Vietnamese, Restaurants, Soup\n",
      "Restaurants, Mexican, Sushi Bars\n",
      "Medical Centers, Health & Medical, Walk-in Clinics, Urgent Care\n",
      "Business Consulting, Financial Services, Professional Services\n",
      "Eyewear & Opticians, Shopping\n",
      "Sushi Bars, Japanese, Restaurants\n",
      "Eyelash Service, Hair Removal, Eyebrow Services, Beauty & Spas\n",
      "Chinese, Restaurants\n",
      "Hotels, Event Planning & Services, Hotels & Travel\n",
      "Food, Specialty Food, Health Markets\n",
      "Restaurants, Caterers, Italian, Event Planning & Services\n",
      "Auto Customization, Auto Parts & Supplies, Auto Glass Services, Auto Repair, Automotive, Body Shops\n",
      "Hair Salons, Hair Stylists, Beauty & Spas\n",
      "Education, Specialty Schools, Cooking Schools\n",
      "Hair Removal, Beauty & Spas, Shopping, Laser Hair Removal, Cosmetics & Beauty Supply\n",
      "Body Shops, Automotive, Auto Repair\n",
      "Chocolatiers & Shops, Specialty Food, Ice Cream & Frozen Yogurt, Desserts, Food\n",
      "Burgers, Restaurants\n",
      "Bars, Sports Bars, Nightlife, Beer, Wine & Spirits, Restaurants, Food, American (Traditional)\n",
      "Automotive, Windshield Installation & Repair, Car Window Tinting, Auto Glass Services\n",
      "Fast Food, Sandwiches, Restaurants, Burgers\n",
      "Automotive, Auto Repair, Tires, Auto Parts & Supplies\n",
      "Venues & Event Spaces, Event Planning & Services\n",
      "Pet Sitting, Pet Groomers, Veterinarians, Pet Services, Pets\n",
      "Restaurants, Canadian (New)\n",
      "Automotive, Car Wash\n",
      "Sandwiches, Restaurants, Delis, Desserts, Food\n",
      "Breakfast & Brunch, Diners, Restaurants, Coffee & Tea, Food\n",
      "Burgers, Food, Restaurants\n",
      "Auto Repair, Car Dealers, Body Shops, Automotive\n",
      "Hotels, Hotels & Travel, Event Planning & Services\n",
      "Professional Services, Cosmetics & Beauty Supply, Hair Salons, Nail Salons, Hair Stylists, Beauty & Spas, Shopping, Hair Extensions, Blow Dry/Out Services, Barbers\n",
      "Hotels & Travel, Tours\n",
      "Garage Door Services, Home Services\n",
      "Middle Eastern, Restaurants, Vegetarian, Juice Bars & Smoothies, Ethnic Food, Salad, Food, Sandwiches, Specialty Food\n",
      "Golf, Active Life\n",
      "Dive Bars, Food, Bars, Pubs, Restaurants, Nightlife, American (Traditional), Beer, Wine & Spirits\n",
      "Chicken Wings, Pizza, Salad, Restaurants\n",
      "Health & Medical, Eyewear & Opticians, Optometrists, Shopping\n",
      "Tires, Wheel & Rim Repair, Automotive, Auto Glass Services, Car Wash\n",
      "Shoe Stores, Fashion, Shopping\n",
      "Children's Clothing, Shoe Stores, Accessories, Fashion, Shopping\n",
      "Home Services, Apartments, Real Estate\n",
      "Arts & Crafts, Costumes, Fashion, Formal Wear, Used, Vintage & Consignment, Antiques, Shopping\n",
      "Restaurants, Burgers\n",
      "Food, Grocery, Restaurants, Middle Eastern\n",
      "Barbeque, Restaurants\n",
      "Barbers, Beauty & Spas, Hair Salons, Tattoo\n",
      "Chinese, Restaurants\n",
      "Mediterranean, Restaurants, Middle Eastern, Turkish\n",
      "Car Dealers, Automotive, Used Car Dealers\n",
      "Accountants, Professional Services, Financial Services, Tax Services\n",
      "Chiropractors, Doctors, Pain Management, Health & Medical\n",
      "Beauty & Spas, Nail Salons\n",
      "Automotive, Oil Change Stations, Tires, Auto Repair\n",
      "Shopping, Fashion, Women's Clothing, Accessories\n",
      "Restaurants, American (Traditional)\n",
      "Golf, Active Life\n",
      "Specialty Food, Food, Herbs & Spices\n",
      "Automotive, Auto Repair, Tires, Towing\n",
      "Restaurants, Food, Delis, Desserts, Bakeries, Coffee & Tea\n",
      "Motorcycle Repair, Motorcycle Rental, Motorcycle Dealers, Automotive, Hotels & Travel\n",
      "Fashion, Shopping, Department Stores\n",
      "Ethnic Food, Specialty Food, Food, Restaurants, Vegetarian, Mediterranean, Middle Eastern\n",
      "Shopping, Local Services, Jewelry, Jewelry Repair\n",
      "Shopping, Home & Garden, Furniture Stores, Mattresses\n",
      "Florists, Flowers & Gifts, Baby Gear & Furniture, Home & Garden, Shopping\n",
      "Bars, Pubs, Gastropubs, Nightlife, Restaurants, Canadian (New)\n",
      "Nightlife, Bars\n",
      "Grocery, Food, Specialty Food\n",
      "Financial Services, Real Estate, Investing, Home Services, Mortgage Brokers, Banks & Credit Unions\n",
      "Arts & Entertainment, Music Venues, Nightlife, Bars\n",
      "Landscape Architects, Nurseries & Gardening, Home & Garden, Shopping, Home Services\n",
      "Fitness & Instruction, Yoga, Education, Active Life, Specialty Schools\n",
      "Sandwiches, Restaurants, Pizza, Salad\n",
      "Beauty & Spas, Nail Salons\n",
      "Restaurants, Burgers, Fast Food\n",
      "Art Galleries, Shopping, Arts & Entertainment, Museums, Art Museums\n",
      "Cajun/Creole, Restaurants\n",
      "Food, Ice Cream & Frozen Yogurt\n",
      "Italian, Canadian (New), Food, American (New), Restaurants\n",
      "Hiking, Active Life\n",
      "Specialty Food, Imported Food, Ethnic Food, Food\n",
      "Italian, Restaurants, Event Planning & Services, Caterers\n",
      "Pet Groomers, Pets, Pet Sitting, Pet Services\n",
      "None\n",
      "Eyelash Service, Beauty & Spas, Skin Care\n",
      "Auto Repair, Auto Detailing, Body Shops, Automotive, Windshield Installation & Repair, Auto Glass Services\n",
      "Beauty & Spas, Hair Extensions, Tanning, Hair Salons, Eyelash Service\n",
      "Desserts, Food, Chocolatiers & Shops, Specialty Food\n",
      "Dentists, Cosmetic Dentists, Oral Surgeons, General Dentistry, Health & Medical\n",
      "Plumbing, Home Services\n",
      "Beauty & Spas, Nail Salons\n",
      "Restaurants, Pizza, Sandwiches, Italian\n",
      "Event Planning & Services, Party & Event Planning, Arts & Entertainment, Party Equipment Rentals, Casinos\n",
      "Bike Rentals, Active Life, Bikes, Sports Wear, Fashion, Shopping, Outdoor Gear, Ski & Snowboard Shops, Sporting Goods\n",
      "Mexican, Restaurants\n",
      "Coffee & Tea, Food\n",
      "Restaurants, American (Traditional), Moroccan\n",
      "Heating & Air Conditioning/HVAC, Home Services\n",
      "Apartments, Real Estate, Home Services\n",
      "Pubs, Bars, Nightlife\n",
      "Medical Spas, Day Spas, Sugaring, Health & Medical, Hair Removal, Skin Care, Beauty & Spas\n",
      "Women's Clothing, Plus Size Fashion, Accessories, Fashion, Shopping, Men's Clothing\n",
      "Beauty & Spas, Hair Salons\n",
      "Mexican, Restaurants\n",
      "Restaurants, Pizza\n",
      "Beauty & Spas, Wedding Planning, Event Planning & Services, Makeup Artists, Professional Services, Video/Film Production\n",
      "Music Venues, Dance Clubs, Arts & Entertainment, Nightlife\n",
      "Movers, Local Services, Self Storage, Home Services\n",
      "Health & Medical, Massage Therapy, Physical Therapy, Chiropractors\n",
      "Fences & Gates, Contractors, Home Services\n",
      "Home Services, Heating & Air Conditioning/HVAC\n",
      "Dim Sum, Chinese, Tapas/Small Plates, Restaurants\n",
      "Bars, Nightlife, Restaurants, American (Traditional)\n",
      "Barbeque, Restaurants\n",
      "Doctors, Family Practice, Health & Medical\n",
      "Breakfast & Brunch, Restaurants, Canadian (New), Diners\n",
      "Fast Food, Restaurants, Burgers, Food\n",
      "Handyman, Professional Services, Electricians, Contractors, Home Services\n",
      "American (Traditional), Gluten-Free, Restaurants, Food Delivery Services, American (New), Weight Loss Centers, Health & Medical, Nutritionists, Food\n",
      "Professional Services, Graphic Design, Web Design\n",
      "Restaurants, Italian, Pizza, Fast Food, Chicken Wings\n",
      "Professional Services, Home Services, Financial Services, Real Estate Services, Insurance, Real Estate\n",
      "Battery Stores, Auto Parts & Supplies, Automotive, Auto Repair, Shopping\n",
      "Restaurants, Middle Eastern\n",
      "Local Services, Appliances & Repair\n",
      "Food, Specialty Food, Beer, Wine & Spirits, Shopping, Flowers & Gifts, Florists, Grocery\n",
      "Chinese, Restaurants\n",
      "Coffee & Tea, Cafes, Restaurants, Bakeries, Juice Bars & Smoothies, Local Flavor, Food\n",
      "Nail Salons, Beauty & Spas\n",
      "Restaurants, Burgers, Poutineries, Canadian (New)\n",
      "Laboratory Testing, Doctors, Diagnostic Services, Urgent Care, Medical Centers, Health & Medical\n",
      "Chimney Sweeps, Fireplace Services, Home Services, Masonry/Concrete\n",
      "Home Services, Cabinetry\n",
      "Nightlife, Bars, American (New), Restaurants, American (Traditional)\n",
      "Home Services, Home Cleaning\n",
      "Mobile Phones, Shopping\n",
      "Nail Salons, Hair Extensions, Beauty & Spas, Eyelash Service, Men's Hair Salons, Hair Salons\n",
      "Food, Internet Cafes, Arts & Entertainment, Computers, Shopping, LAN Centers, Arcades\n",
      "Laboratory Testing, Diagnostic Services, Health & Medical\n",
      "Sandwiches, Restaurants, Barbeque, Salad\n",
      "Bird Shops, Pets, Home Decor, Toy Stores, Shopping, Holiday Decorations, Arts & Crafts, Home & Garden, Pet Stores\n",
      "Beauty & Spas, Hair Stylists, Hair Salons\n",
      "Psychic Mediums, Jewelry, Shopping, Psychics, Supernatural Readings, Arts & Entertainment\n",
      "Musical Instrument Services, Movers, Local Services, Self Storage, Piano Services, Home Services\n",
      "Flight Instruction, Education, Hotels & Travel, Transportation, Specialty Schools, Airlines\n",
      "Hotels & Travel, Nightlife, Food, Beer, Wine & Spirits\n",
      "Home Services, Department Stores, Fashion, Nurseries & Gardening, Hardware Stores, Home & Garden, Shopping, Building Supplies, Appliances\n",
      "Home Services, Heating & Air Conditioning/HVAC\n",
      "Car Dealers, Auto Repair, Auto Parts & Supplies, Automotive\n",
      "Financial Services, Banks & Credit Unions\n",
      "Apartments, Real Estate, Home Services\n",
      "Event Planning & Services, Venues & Event Spaces\n",
      "Local Flavor, Chinese, Nightlife, Restaurants, Bars, Buffets, Asian Fusion\n",
      "Restaurants\n",
      "Middle Eastern, Pizza, Sandwiches, Chicken Wings, Restaurants\n",
      "Fast Food, Restaurants, Delis, Sandwiches, Wraps\n",
      "Air Duct Cleaning, Local Services, Heating & Air Conditioning/HVAC, Home Services\n",
      "Pest Control, Local Services\n",
      "Food, Gas Stations, Car Wash, Convenience Stores, Automotive, Auto Detailing, Oil Change Stations\n",
      "Local Services, Shopping, Donation Center, Thrift Stores\n",
      "Local Services, Home Services, Pest Control, Window Washing\n",
      "Restaurants, Hawaiian, Chinese, Japanese, Poke, Asian Fusion, Mexican, Food\n",
      "Bars, Sports Bars, Nightlife\n",
      "Nail Salons, Beauty & Spas\n",
      "Asian Fusion, Japanese, Restaurants, Ramen, Tapas Bars\n",
      "Cosmetics & Beauty Supply, Shopping, Beauty & Spas, Skin Care, Makeup Artists, Hair Removal\n",
      "Beauty & Spas, Nail Salons\n",
      "Automotive, Gas Stations\n",
      "Employment Agencies, Professional Services\n",
      "IT Services & Computer Repair, Mobile Phone Repair, Electronics Repair, Local Services\n",
      "Restaurants, Taiwanese\n",
      "Sandwiches, Juice Bars & Smoothies, Coffee & Tea, Food, Donuts, Ice Cream & Frozen Yogurt, Restaurants\n",
      "Restaurants\n",
      "Nightlife, Restaurants, Bars\n",
      "Sushi Bars, Buffets, Restaurants, Chinese\n",
      "Sewing & Alterations, Local Services\n",
      "Pet Groomers, Pet Stores, Pet Services, Pets\n",
      "Real Estate, Home Services, Property Management\n",
      "Automotive, Smog Check Stations\n",
      "Men's Clothing, Shopping, Department Stores, Fashion, Shoe Stores, Women's Clothing\n",
      "Restaurants, Vegetarian, Pakistani, Middle Eastern, Indian\n",
      "Restaurants, Fast Food, Chicken Wings\n",
      "Fast Food, Sandwiches, Restaurants, Food, Food Delivery Services, Delis\n",
      "Beauty & Spas, Nail Salons, Waxing, Eyelash Service, Hair Removal\n",
      "Pawn Shops, Shopping, Jewelry\n",
      "Food, Beer, Wine & Spirits, Restaurants, Barbeque, Local Flavor, American (Traditional)\n",
      "Shopping, Vape Shops\n",
      "Home Services, Commercial Real Estate, Mortgage Brokers, Real Estate Agents, Financial Services, Mortgage Lenders, Real Estate\n",
      "Cosmetics & Beauty Supply, Shoe Stores, Shopping, Fashion, Hair Removal, Nail Salons, Lingerie, Hair Salons, Arts & Crafts, Tanning, Beauty & Spas, Costumes, Women's Clothing, Accessories\n",
      "Financial Advising, Financial Services\n",
      "Jewelry, Shopping\n",
      "Beauty & Spas, Hair Extensions, Hair Stylists, Hair Salons\n",
      "Chinese, Restaurants, Fast Food\n",
      "Home Services, Hot Tub & Pool, Shopping, Home & Garden, Pool Cleaners, Contractors\n",
      "Health & Medical, Allergists, Doctors\n",
      "Burgers, Restaurants, Cafes, Salad, Sandwiches\n",
      "Local Services, Home Services, Home Cleaning, Carpet Cleaning, Tiling, Grout Services\n",
      "Automotive, Motorcycle Dealers, Motorcycle Repair\n",
      "Shopping, Electronics\n",
      "Food, Sandwiches, Restaurants, Soup, Bakeries, Salad\n",
      "Education, Venues & Event Spaces, Event Planning & Services, Art Schools, Shopping, Jewelry, Art Classes, Specialty Schools\n",
      "Home & Garden, Fashion, Women's Clothing, Furniture Stores, Shopping\n",
      "Restaurants, Canadian (New), French, Brasseries\n",
      "Nail Salons, Beauty & Spas\n",
      "Yoga, Active Life, Fitness & Instruction\n",
      "American (New), Burgers, Diners, Restaurants, Fast Food, Breakfast & Brunch, American (Traditional)\n",
      "Vegan, Soul Food, Restaurants, Food, Juice Bars & Smoothies\n",
      "Furniture Assembly, Local Services, Couriers & Delivery Services, Handyman, Home Services\n",
      "Hair Salons, Men's Hair Salons, Hair Stylists, Barbers, Beauty & Spas\n",
      "Fashion, Shopping, Men's Clothing\n",
      "Food, Bakeries, Coffee & Tea\n",
      "Restaurants, Filipino, Soup, Fast Food\n",
      "Hotels & Travel, Private Jet Charter, Airports, Transportation, Travel Services\n",
      "Car Rental, Hotels & Travel\n",
      "Burgers, Restaurants, American (Traditional)\n",
      "Movers, Self Storage, Packing Services, Home Services, Local Services\n",
      "Flowers & Gifts, Shopping, Gift Shops, Electronics\n",
      "Real Estate, Auction Houses, Real Estate Services, Antiques, Shopping, Home Services, Estate Liquidation, Contractors\n",
      "Grocery, Health Markets, Specialty Food, Health & Medical, Herbs & Spices, Organic Stores, Food\n",
      "Day Spas, Beauty & Spas, Hair Salons, Massage, Skin Care\n",
      "Used, Vintage & Consignment, Shopping Centers, Bridal, Fashion, Event Planning & Services, Children's Clothing, Wedding Planning, Shopping\n",
      "Automotive, Auto Parts & Supplies\n",
      "Pain Management, Professional Services, Doctors, Anesthesiologists, Rehabilitation Center, Personal Injury Law, Lawyers, Massage, Physical Therapy, Chiropractors, Health & Medical, Nutritionists, Medical Centers, Beauty & Spas\n",
      "Performing Arts, Arts & Entertainment\n",
      "Hakka, Indian, Asian Fusion, Restaurants, Chinese\n",
      "Italian, Restaurants, Pizza\n",
      "Health & Medical, Hospitals\n",
      "Mexican, Restaurants, Seafood\n",
      "Grocery, Specialty Food, Ethnic Food, Food, Imported Food\n",
      "Ice Cream & Frozen Yogurt, Food, Event Planning & Services, Desserts, Caterers\n",
      "Shopping, Drugstores\n",
      "American (New), Restaurants, Breakfast & Brunch\n",
      "Food, Grocery, Delis, Buffets, Event Planning & Services, Breakfast & Brunch, Restaurants, Caterers\n",
      "Sandwiches, Fast Food, Restaurants\n",
      "Department Stores, Fashion, Shopping\n",
      "Food, Coffee & Tea, Bakeries, Restaurants, Cafes\n",
      "Burgers, Italian, Beauty & Spas, Wine Bars, Barbers, Peruvian, American (Traditional), Bars, Gastropubs, Diners, Salad, Specialty Food, Restaurants, American (New), Nightlife, Cafes, Food\n",
      "Shopping, Used, Vintage & Consignment, Fashion\n",
      "Arts & Crafts, Art Supplies, Shopping\n",
      "Home Services, Home Cleaning\n",
      "Restaurants, Mediterranean\n",
      "Beauty & Spas, Cosmetics & Beauty Supply, Shopping\n",
      "Canadian (New), Wine Bars, Italian, Restaurants, Caterers, Bars, Nightlife, Event Planning & Services\n",
      "Restaurants, Breakfast & Brunch, Food, Coffee & Tea\n",
      "Coffee & Tea, Wedding Planning, Food, Event Planning & Services, Ice Cream & Frozen Yogurt, Party & Event Planning, Gelato\n",
      "Nightlife, Bars, Sports Bars\n",
      "Buffets, Restaurants\n",
      "Home Services, Heating & Air Conditioning/HVAC\n",
      "Massage Therapy, Nutritionists, Life Coach, Health & Medical, Professional Services, Fitness & Instruction, Trainers, Active Life\n",
      "Buffets, Chinese, Restaurants\n",
      "Restaurants, Coffee & Tea, Bakeries, Food, Breakfast & Brunch, Coffee Roasteries\n",
      "Restaurants, Filipino\n",
      "Steakhouses, Restaurants\n",
      "Restaurants, Bakeries, Food\n",
      "Shopping, Mobile Phones\n",
      "Seafood, Chinese, Steakhouses, Restaurants, Italian\n",
      "Roofing, Contractors, Home Services\n",
      "Vietnamese, Restaurants\n",
      "Home Cleaning, Home Services\n",
      "Caribbean, Tapas/Small Plates, Restaurants\n",
      "Local Services, Funeral Services & Cemeteries\n",
      "Medical Centers, Health & Medical\n",
      "Restaurants, Sushi Bars, Japanese\n",
      "Italian, Restaurants\n",
      "Food, Restaurants, Bakeries, Cafes\n",
      "Advertising, Business Consulting, Professional Services, Web Design, Graphic Design, Event Planning & Services, Videographers, Marketing, Public Relations\n",
      "Fences & Gates, Home Services\n",
      "Event Photography, Event Planning & Services, Photographers, Session Photography\n",
      "Web Design, Print Media, Local Services, Mass Media, Printing Services, Signmaking, Professional Services, Graphic Design\n",
      "Summer Camps, Preschools, Active Life, Child Care & Day Care, Local Services, Education\n",
      "Bubble Tea, Food, Restaurants, Taiwanese, Coffee & Tea\n",
      "Restaurants, Greek, Mediterranean, Caterers, Event Planning & Services\n",
      "Restaurants, American (Traditional), American (New), Tex-Mex, Bars, Nightlife\n",
      "Home Services, Carpet Cleaning, Local Services, Tiling, Refinishing Services\n",
      "Health & Medical, Financial Services, Health Insurance Offices, Insurance\n",
      "Restaurants, Sandwiches, Salad, Pizza\n",
      "Nightlife, Dive Bars, Bars\n",
      "Body Shops, Automotive\n",
      "Bakeries, Event Planning & Services, Caterers, Desserts, Ice Cream & Frozen Yogurt, Food\n",
      "Automotive, Car Wash\n",
      "Heating & Air Conditioning/HVAC, Home Cleaning, Professional Services, Office Cleaning, Air Duct Cleaning, Home Services, Chimney Sweeps, Local Services\n",
      "Arts & Entertainment, Botanical Gardens, Parks, Active Life\n",
      "Food, Bakeries, Restaurants\n",
      "Breakfast & Brunch, Food, Restaurants, Coffee & Tea\n",
      "Shopping, Fashion, Men's Clothing, Jewelry, Accessories, Bridal\n",
      "Fashion, Shopping, Used, Vintage & Consignment\n",
      "Specialty Food, Food, Bars, Italian, Nightlife, Ethnic Food, Restaurants, Cocktail Bars, Mediterranean\n",
      "Breakfast & Brunch, Restaurants, Canadian (New), Diners\n",
      "Fast Food, Sandwiches, Restaurants\n",
      "Photo Booth Rentals, Party Supplies, Party Equipment Rentals, Event Planning & Services\n",
      "Blow Dry/Out Services, Hair Stylists, Beauty & Spas, Hair Salons\n",
      "Chiropractors, Medical Spas, Beauty & Spas, Health & Medical, Massage, Day Spas\n",
      "Pet Sitting, Dog Walkers, Pet Services, Pets\n",
      "Venues & Event Spaces, Hotels, Hotels & Travel, Resorts, Event Planning & Services\n",
      "Art Supplies, Shopping, Arts & Crafts\n",
      "Arts & Entertainment, Museums\n",
      "Carpeting, Home Services\n",
      "Dry Cleaning & Laundry, Local Services, Laundromat, Laundry Services\n",
      "Automotive, Oil Change Stations, Auto Repair, Tires\n",
      "Shopping, Women's Clothing, Fashion, Accessories\n",
      "Diagnostic Services, Diagnostic Imaging, Radiologists, Health & Medical, Doctors\n",
      "Restaurants, Mexican\n",
      "Department Stores, Home & Garden, Nurseries & Gardening, Shopping, Fashion\n",
      "Breakfast & Brunch, Lounges, Nightlife, Latin American, Mexican, Bars, Restaurants\n",
      "Solar Installation, Car Dealers, Home Services, Automotive\n",
      "Fitness & Instruction, Recreation Centers, Gyms, Active Life, Trainers\n",
      "Weight Loss Centers, Health & Medical, Sports Medicine, Doctors, Chiropractors\n",
      "Hotels, Venues & Event Spaces, Hotels & Travel, Event Planning & Services\n",
      "Financial Services, Insurance\n",
      "Professional Services, Personal Injury Law, Lawyers, DUI Law, Medical Law\n",
      "Appliances, Food, Specialty Food, Shopping, Home & Garden, Kitchen & Bath\n",
      "Active Life, Trainers, Fitness & Instruction, Gyms, Interval Training Gyms\n",
      "Restaurants, Pizza\n",
      "Chinese, Restaurants\n",
      "Guns & Ammo, Shopping\n",
      "Diners, Restaurants\n",
      "Vietnamese, Restaurants\n",
      "Physical Therapy, Health & Medical\n",
      "Motorcycle Repair, Motorsport Vehicle Dealers, Motorcycle Dealers, Automotive\n",
      "Hair Removal, Nail Salons, Beauty & Spas, Eyelash Service, Makeup Artists, Waxing\n",
      "Flowers & Gifts, Art Galleries, Coffee & Tea, Arts & Entertainment, Food, Cafes, Museums, Restaurants, Local Flavor, Shopping Centers, Shopping, Florists\n",
      "Chimney Sweeps, Office Cleaning, Professional Services, Home Services, Heating & Air Conditioning/HVAC, Home Cleaning, Air Duct Cleaning, Local Services\n",
      "Home & Garden, Hardware Stores, Keys & Locksmiths, Home Services, Shopping, Security Systems\n",
      "Mediterranean, Restaurants, Breakfast & Brunch, Fast Food, Middle Eastern, Sandwiches\n",
      "Food\n",
      "Asian Fusion, Restaurants, Seafood, Sushi Bars, Japanese\n",
      "Automotive, Car Stereo Installation, Auto Detailing, Tires\n",
      "Modern European, Restaurants\n",
      "Automotive, Auto Glass Services\n",
      "Tattoo, Beauty & Spas\n",
      "Pet Services, Pet Sitting, Pets\n",
      "Bars, Restaurants, Sports Bars, Chicken Wings, American (Traditional), Nightlife\n",
      "Cafes, Beer, Wine & Spirits, Halal, Fast Food, Party & Event Planning, Restaurants, Food, Event Planning & Services, Ice Cream & Frozen Yogurt, Indian\n",
      "Shopping, Auto Repair, Mobile Phones, Automotive\n",
      "Home Services, Building Supplies\n",
      "Reiki, Arts & Entertainment, Health & Medical, Psychic Mediums, Supernatural Readings, Life Coach, Professional Services\n",
      "Tires, Auto Glass Services, Auto Repair, Auto Parts & Supplies, Automotive\n",
      "Arts & Crafts, Wedding Planning, Art Supplies, Shopping, Home Decor, Event Planning & Services, Home & Garden, Hobby Shops\n",
      "Tours, Hotels & Travel, Active Life\n",
      "Home Services\n",
      "Pet Stores, Active Life, Pet Services, Nurseries & Gardening, Shopping, Pets, Home & Garden, Aquariums\n",
      "Vietnamese, Restaurants\n",
      "Japanese, Restaurants, Sushi Bars\n",
      "Web Design, Marketing, Professional Services\n",
      "Shoe Repair, Local Services\n",
      "Accessories, Home Decor, Fashion, Home & Garden, Men's Clothing, Women's Clothing, Flowers & Gifts, Shopping, Gift Shops\n",
      "Movers, Home Services, Local Services, Self Storage\n",
      "Event Planning & Services, American (Traditional), Bakeries, Cocktail Bars, Caterers, Bars, Coffee & Tea, Food, French, Restaurants, Nightlife\n",
      "Middle Eastern, Lebanese, Restaurants\n",
      "Furniture Stores, Fashion, Home & Garden, Toy Stores, Shopping, Women's Clothing, Shoe Stores, Department Stores, Men's Clothing\n",
      "Vietnamese, Coffee & Tea, Restaurants, Food\n",
      "Escape Games, Active Life\n",
      "Nightlife, Restaurants, American (Traditional), Wine Bars, Bars, Breakfast & Brunch, French\n",
      "Do-It-Yourself Food, Asian Fusion, Chinese, Mongolian, Food, Restaurants\n",
      "Mexican, Restaurants\n",
      "Restaurants, American (New)\n",
      "Women's Clothing, Fashion, Men's Clothing, Shopping, Department Stores, Plus Size Fashion\n",
      "Insurance, Financial Services, Banks & Credit Unions, Home & Rental Insurance, Auto Insurance\n",
      "American (New), Restaurants\n",
      "Mexican, Puerto Rican, Caribbean, Restaurants\n",
      "Fast Food, Mexican, Restaurants\n",
      "Restaurants, Food, Coffee & Tea, Juice Bars & Smoothies\n",
      "Sandwiches, Fast Food, Restaurants\n",
      "Pets, Pet Stores\n",
      "Gyms, Fitness & Instruction, Active Life\n",
      "Pet Stores, Pets, Pet Adoption\n",
      "Pharmacy, Health & Medical, Drugstores, Shopping\n",
      "Massage Therapy, Beauty & Spas, Health & Medical, Skin Care, Traditional Chinese Medicine\n",
      "Customized Merchandise, Home & Garden, Outdoor Furniture Stores, Rugs, Furniture Stores, Shopping\n",
      "Home Services, Mortgage Brokers, Financial Services, Real Estate, Banks & Credit Unions\n",
      "Restaurants, Pizza\n",
      "Restaurants, Fast Food, Noodles\n",
      "Lawyers, Real Estate, Wills, Trusts, & Probates, Professional Services, Home Services, Estate Liquidation, Estate Planning Law, Business Law\n",
      "Flowers & Gifts, Shopping, Florists\n",
      "Education, Elementary Schools, Child Care & Day Care, Local Services, Specialty Schools, Dance Schools, Preschools\n",
      "Specialty Schools, Automotive, Driving Schools, Motorcycle Repair, Motorcycle Dealers, Car Dealers, Education, Religious Organizations, Churches\n",
      "Shopping, Used, Vintage & Consignment, Fashion, Men's Clothing, Women's Clothing\n",
      "Vape Shops, Shopping, Tobacco Shops, Electronics\n",
      "Home Services, Pool Cleaners, Pool & Hot Tub Service\n",
      "Real Estate, Home Services, Property Management, Apartments\n",
      "Automotive, Car Wash\n",
      "Local Flavor, Beer, Wine & Spirits, Food\n",
      "American (Traditional), Ice Cream & Frozen Yogurt, Food, Restaurants\n",
      "Restaurants, Fast Food, Burgers, American (Traditional), American (New), Breakfast & Brunch, Diners\n",
      "Auto Parts & Supplies, Automotive\n",
      "Home Services, Patisserie/Cake Shop, Food, Desserts, Real Estate\n",
      "Home Services, Real Estate, Apartments\n",
      "Department Stores, Baby Gear & Furniture, Health & Medical, Optometrists, Fashion, Shopping, Appliances, Women's Clothing, Men's Clothing, Children's Clothing, Home & Garden\n",
      "Health & Medical, General Dentistry, Dentists\n",
      "Restaurants, Pizza\n",
      "Arts & Entertainment, Cinema\n",
      "Eyewear & Opticians, Shopping\n",
      "Furniture Stores, Office Equipment, Shopping, Home & Garden\n",
      "Music Venues, Nightlife, Arts & Entertainment, Cinema\n",
      "Arts & Entertainment, Arcades, Venues & Event Spaces, Bowling, Event Planning & Services, Nightlife, Active Life\n",
      "Restaurants, Japanese\n",
      "Real Estate, Real Estate Services, Real Estate Agents, Home Services\n",
      "Cafes, Nightlife, Restaurants, Bars, Pubs\n",
      "Barbers, Beauty & Spas\n",
      "Home Health Care, Medical Transportation, Health & Medical\n",
      "Sporting Goods, Active Life, Mountain Biking, Bike Repair/Maintenance, Bikes, Local Services, Shopping\n",
      "Waxing, Nail Salons, Hair Removal, Beauty & Spas, Skin Care\n",
      "Burgers, Restaurants, American (New), Bars, American (Traditional), Nightlife\n",
      "Hotels & Travel, Event Planning & Services, Hotels\n",
      "Nail Salons, Beauty & Spas\n",
      "Vape Shops, Medical Supplies, Shopping, Tobacco Shops, Electronics\n",
      "Fashion, Accessories, Shopping, Used, Vintage & Consignment\n",
      "Active Life, Golf\n",
      "Shoe Repair, Local Services, Home Services, Dry Cleaning & Laundry, Laundry Services\n",
      "Dermatologists, Doctors, Health & Medical, Cosmetic Surgeons\n",
      "Guns & Ammo, Active Life, Shopping, Local Services\n",
      "Diners, Breakfast & Brunch, Restaurants\n",
      "Massage Therapy, Family Practice, Acupuncture, Health & Medical, Doctors, CPR Classes, Educational Services, Specialty Schools, Education\n",
      "Convenience Stores, Hot Dogs, Gas Stations, Burgers, Automotive, Food Stands, Restaurants, Comfort Food, Food, Fast Food\n",
      "Automotive, Auto Repair, Oil Change Stations\n",
      "None\n",
      "Family Practice, Health & Medical, Doctors\n",
      "Chinese, Restaurants\n",
      "Event Planning & Services, Venues & Event Spaces\n",
      "Pizza, Chicken Wings, Burgers, Restaurants\n",
      "Restaurants, Pizza, Italian\n",
      "Diners, American (Traditional), Restaurants, Breakfast & Brunch, Waffles, American (New), Fast Food, Burgers\n",
      "Restaurants, Desserts, Food, Caterers, Ice Cream & Frozen Yogurt, Bakeries, Event Planning & Services\n",
      "Beauty & Spas, Cosmetics & Beauty Supply, Shopping, Drugstores\n",
      "Automotive, Car Wash\n",
      "Fitness & Instruction, Gyms, Active Life\n",
      "Bars, Event Planning & Services, Arts & Entertainment, Lounges, Nightlife, Casinos, Venues & Event Spaces, Pool Halls\n",
      "Financial Services, Banks & Credit Unions\n",
      "Soup, Sandwiches, Hot Dogs, Restaurants\n",
      "Midwives, Health & Medical\n",
      "Burgers, American (Traditional), Cafes, Breakfast & Brunch, Restaurants, Sandwiches, Comfort Food\n",
      "Apartments, Home Services, Real Estate, Property Management\n",
      "Automotive, Body Shops\n",
      "Nightlife, Adult Entertainment, Gay Bars, Dance Clubs, Bars\n",
      "Shopping, Fashion, Sports Wear, Department Stores, Arts & Crafts, Sporting Goods, Men's Clothing, Women's Clothing, Leather Goods\n",
      "Transportation, Event Planning & Services, Hotels & Travel, Wedding Planning, Limos\n",
      "Pakistani, Indian, Restaurants, Food\n",
      "Tires, Automotive\n",
      "Kitchen & Bath, Nurseries & Gardening, Home & Garden, Shopping, Landscape Architects, Home Services\n",
      "French, Dinner Theater, Burgers, Steakhouses, Pubs, Gluten-Free, Gastropubs, Bars, Restaurants, Brasseries, Nightlife, Breakfast & Brunch\n",
      "Home Services, Real Estate Services, Real Estate\n",
      "Travel Services, Airport Shuttles, Parking, Transportation, Hotels & Travel, Automotive\n",
      "Home Services, Keys & Locksmiths, Home & Garden, Shopping, Hardware Stores\n",
      "Greek, Restaurants, Mediterranean\n",
      "Health & Medical, Massage Therapy\n",
      "Sandwiches, Fast Food, Restaurants\n",
      "Salad, Bagels, Breakfast & Brunch, Sandwiches, Food, Bakeries, Soup, Restaurants\n",
      "Home Cleaning, Home Services\n",
      "Salad, Italian, Restaurants, Pizza\n",
      "Pet Sitting, Pets, Pet Adoption, Animal Shelters, Pet Services\n",
      "Comfort Food, Restaurants, American (Traditional)\n",
      "Restaurants, Breakfast & Brunch, Diners\n",
      "Shopping, Bookstores, Coffee & Tea, Food, Books, Mags, Music & Video, Restaurants\n",
      "Restaurants, American (Traditional), Nightlife, Bars\n",
      "Pediatric Dentists, Dentists, General Dentistry, Health & Medical, Orthodontists, Cosmetic Dentists\n",
      "Burgers, American (New), Sandwiches, Breakfast & Brunch, Restaurants\n",
      "Beer, Wine & Spirits, Food\n",
      "Pets, Pet Stores\n",
      "Banks & Credit Unions, Financial Services\n",
      "Sports Bars, Italian, Nightlife, Restaurants, Bars, Pizza\n",
      "Shopping, Eyewear & Opticians\n",
      "Kitchen & Bath, Fashion, Home & Garden, Used, Vintage & Consignment, Shopping\n",
      "Waxing, Nail Salons, Hair Removal, Beauty & Spas\n",
      "Active Life, Golf\n",
      "Kids Hair Salons, Beauty & Spas, Hair Salons, Hair Stylists\n",
      "Dry Cleaning & Laundry, Local Services, Laundry Services\n",
      "Health & Medical, Neurologist, Doctors\n",
      "Dog Parks, Parks, Active Life\n",
      "Food, Coffee & Tea\n",
      "Bakeries, Food, Restaurants\n",
      "Desserts, Cafes, Food, Ice Cream & Frozen Yogurt, Restaurants, Bubble Tea\n",
      "Beauty & Spas, Shopping, Cosmetics & Beauty Supply\n",
      "Hair Salons, Beauty & Spas\n",
      "Nightlife, Latin American, Wine Bars, Restaurants, Bars, Lounges\n",
      "Gyms, Active Life, Fitness & Instruction\n",
      "Skin Care, Beauty & Spas, Shopping, Health & Medical, Cosmetics & Beauty Supply, Medical Spas\n",
      "Specialty Food, Food\n",
      "Art Supplies, Florists, Shopping, Arts & Crafts, Flowers & Gifts\n",
      "Home & Garden, Furniture Stores, Home Services, Interior Design, Shopping, Home Decor\n",
      "Notaries, Mailbox Centers, Local Services, Printing Services, Shipping Centers\n",
      "Masonry/Concrete, Home Services, Landscaping\n",
      "Beauty & Spas, Nail Salons\n",
      "DJs, Event Planning & Services\n",
      "Food, Coffee & Tea\n",
      "Sandwiches, Breakfast & Brunch, Nightlife, Cocktail Bars, Food, Bars, Restaurants, American (Traditional), Canadian (New), Diners, Specialty Food, Delis, Meat Shops, Delicatessen\n",
      "Local Services, Shopping, Appliances & Repair, Appliances, Home & Garden\n",
      "Local Services, Truck Rental, Movers, Propane, Car Rental, Hotels & Travel, Home Services, Shopping, Self Storage, Automotive, Packing Supplies\n",
      "Shopping, Children's Clothing, Men's Clothing, Fashion, Women's Clothing\n",
      "Real Estate, Home Services, Property Management\n",
      "Juice Bars & Smoothies, Restaurants, Sandwiches, Food, Cafes, Coffee & Tea\n",
      "Car Rental, Car Dealers, Hotels & Travel, Automotive\n",
      "Restaurants, Latin American, Mexican, Tacos\n",
      "Restaurants, Pizza, Chicken Wings, Sandwiches\n",
      "Arts & Entertainment, Art Galleries, Shopping\n",
      "Pizza, Restaurants\n",
      "Health & Medical, Counseling & Mental Health\n",
      "Active Life, Horseback Riding, Horse Boarding, Pets\n",
      "Canadian (New), Bakeries, Restaurants, Food, Bars, Burgers, Nightlife, Mexican, American (New)\n",
      "Home & Garden, Electronics, Appliances, Drugstores, Shopping\n",
      "Nightlife, Bars, Restaurants, Wine Bars, Pizza, Italian\n",
      "Restaurants, Sandwiches\n",
      "Shoe Shine, Professional Services, Local Services\n",
      "Pizza, Restaurants\n",
      "Gluten-Free, Breakfast & Brunch, Sandwiches, Restaurants, Salad\n",
      "Gluten-Free, Food, Bakeries, Restaurants, Vegan, Cafes\n",
      "Lounges, Nightlife, American (Traditional), Bars, Restaurants\n",
      "Pubs, Pizza, American (Traditional), Nightlife, Burgers, Bars, Restaurants\n",
      "Gas Stations, Auto Repair, Automotive\n",
      "Oil Change Stations, Auto Repair, Transmission Repair, Automotive\n",
      "Beauty & Spas, Barbers, Nail Salons\n",
      "Child Care & Day Care, Education, Elementary Schools, Preschools, Local Services\n",
      "Pizza, Salad, Restaurants, Italian\n",
      "Medical Spas, Hair Removal, Weight Loss Centers, Laser Hair Removal, Health & Medical, Beauty & Spas\n",
      "Event Planning & Services, Meat Shops, Italian, Caterers, Restaurants, Grocery, Specialty Food, Delis, Food\n",
      "Home Services, Real Estate, Real Estate Services, Vacation Rentals, Property Management, Hotels & Travel, Guest Houses, Apartments\n",
      "Reflexology, Beauty & Spas, Health & Medical, Massage\n",
      "Door Sales/Installation, Shopping, Home & Garden, Home Services, Garage Door Services, Contractors\n",
      "Skin Care, Beauty & Spas\n",
      "Gyms, Active Life, Fitness & Instruction, Cardio Classes\n",
      "Skin Care, Hair Removal, Doctors, Health & Medical, Laser Hair Removal, Beauty & Spas, Medical Spas, Day Spas\n",
      "Food, Bakeries\n",
      "Home Services, Apartments, Real Estate\n",
      "Delis, Restaurants\n",
      "Towing, Transmission Repair, Oil Change Stations, Tires, Auto Repair, Gas Stations, Automotive, Car Dealers\n",
      "Fondue, Japanese, Restaurants\n",
      "Specialty Food, Food, Popcorn Shops\n",
      "American (Traditional), Lounges, American (New), Mexican, Wine Bars, Restaurants, Nightlife, Bars, Cocktail Bars\n",
      "Restaurants, Vietnamese\n",
      "Bookstores, Shopping, Books, Mags, Music & Video\n",
      "Health & Medical, Doctors\n",
      "Food, Ice Cream & Frozen Yogurt\n",
      "Tattoo, Beauty & Spas, Piercing\n",
      "Automotive, Car Dealers\n",
      "Steakhouses, Restaurants, Bars, Nightlife, American (Traditional), Seafood\n",
      "Cocktail Bars, Bars, Tiki Bars, Nightlife\n",
      "Pizza, Sandwiches, Salad, Restaurants\n",
      "Chinese, Seafood, Cantonese, Noodles, Restaurants\n",
      "Restaurants, Barbeque, Bars, Pubs, Burgers, Nightlife\n",
      "Lounges, Bars, Nightlife\n",
      "Local Services, Dry Cleaning & Laundry, Laundry Services\n",
      "Active Life, Races & Competitions\n",
      "Restaurants\n",
      "Burgers, Restaurants\n",
      "Wine Bars, Nightlife, American (New), Restaurants, Bars, Tapas/Small Plates\n",
      "Food, Specialty Food, Health Markets\n",
      "Food Trucks, Burgers, Food, Sandwiches, Restaurants\n",
      "Doctors, Health & Medical, Nutritionists, Hospitals, Family Practice, Weight Loss Centers, Urgent Care\n",
      "Auto Repair, Hotels & Travel, Auto Parts & Supplies, Car Dealers, Car Rental, Automotive, Body Shops\n",
      "Local Services, Funeral Services & Cemeteries\n",
      "Cosmetics & Beauty Supply, Shopping, Beauty & Spas\n",
      "Restaurants, Korean\n",
      "Restaurants, Fast Food, Chinese\n",
      "Car Dealers, Automotive\n",
      "Restaurants, Mexican, Seafood\n",
      "Food\n",
      "Hotels, Hotels & Travel, Event Planning & Services, Caterers\n",
      "Hair Salons, Beauty & Spas\n",
      "Shoe Stores, Shopping, Fashion, Shoe Repair, Local Services\n",
      "Shopping, Automotive, Auto Repair, Battery Stores, Tires, Oil Change Stations\n",
      "Local Services, Home Services, Home Inspectors, Pest Control\n",
      "Shoe Stores, Fashion, Men's Clothing, Women's Clothing, Shopping, Department Stores\n",
      "Bespoke Clothing, Sewing & Alterations, Shopping, Local Services\n",
      "Life Coach, Professional Services, Health & Medical, Medical Centers, Chiropractors\n",
      "Breakfast & Brunch, Restaurants\n",
      "Doctors, Health & Medical, Internal Medicine, Medical Centers, Osteopathic Physicians, Weight Loss Centers, Family Practice\n",
      "Home Services, Carpeting\n",
      "Junk Removal & Hauling, Home Services, Local Services, Movers\n",
      "Hair Salons, Beauty & Spas\n",
      "Specialty Food, Food, Grocery, Fruits & Veggies, Farmers Market, Health Markets\n",
      "Home Services, Local Services, Appliances & Repair, Heating & Air Conditioning/HVAC\n",
      "Lawyers, Professional Services, Estate Planning Law, Active Life, Divorce & Family Law, Employment Law, Wills, Trusts, & Probates\n",
      "Home Services, Couriers & Delivery Services, Movers, Local Services, Packing Services, Self Storage\n",
      "Health & Medical, Laser Hair Removal, Beauty & Spas, Permanent Makeup, Skin Care, Hair Removal, Medical Spas\n",
      "Japanese, Restaurants\n",
      "Restaurants\n",
      "Food, Restaurants, Sandwiches, Coffee & Tea, Desserts\n",
      "Lawyers, Professional Services, Divorce & Family Law, Legal Services\n",
      "Tobacco Shops, Vape Shops, Shopping\n",
      "Beauty & Spas, Nail Salons\n",
      "Car Dealers, Auto Repair, Car Rental, Hotels & Travel, Auto Parts & Supplies, Automotive\n",
      "Financial Services, Insurance\n",
      "Fashion, Shopping, Swimwear, Sporting Goods, Sports Wear, Lingerie\n",
      "Bakeries, Food\n",
      "Breakfast & Brunch, Restaurants, Coffee & Tea, Cafes, Food\n",
      "Poke, Asian Fusion, Food, Restaurants, Hawaiian, Japanese\n",
      "Active Life, Cardio Classes, Fitness & Instruction, Gyms, Trainers, Boot Camps\n",
      "Pizza, Nightlife, Restaurants, Pubs, Bars\n",
      "Cannabis Dispensaries, Health & Medical, Shopping, Cannabis Clinics\n",
      "Salad, Restaurants, Burgers, Breakfast & Brunch\n",
      "Wedding Planning, Event Planning & Services, Party & Event Planning\n",
      "Restaurants, Food, Do-It-Yourself Food, Chinese, Asian Fusion\n",
      "Keys & Locksmiths, Home Services\n",
      "Mattresses, Furniture Stores, Home & Garden, Shopping\n",
      "Professional Services, Ophthalmologists, Health & Medical, Doctors, Optometrists, Laser Eye Surgery/Lasik\n",
      "Thai, Noodles, Soup, Restaurants\n",
      "Auto Repair, Automotive\n",
      "Education, Middle Schools & High Schools, Local Flavor, Specialty Schools, Tennis, Amateur Sports Teams, Professional Services, Gyms, Public Services & Government, Elementary Schools, Parks, Driving Schools, Fitness & Instruction, Golf, Lawyers, Active Life\n",
      "Restaurants, Mexican\n",
      "Computers, Hobby Shops, Shopping, Photography Stores & Services\n",
      "Health & Medical, Orthodontists, Dentists\n",
      "Music Venues, Arts & Entertainment, Nightlife\n",
      "Pharmacy, Drugstores, Shopping, Health & Medical\n",
      "Restaurants, Diners, Breakfast & Brunch, American (Traditional)\n",
      "Shopping, Shopping Centers\n",
      "Restaurants, American (Traditional), Bars, Nightlife\n",
      "Fitness & Instruction, Boxing, Recreation Centers, Active Life, Trainers\n",
      "Restaurants, Tapas/Small Plates\n",
      "Mobile Phones, Shopping\n",
      "Mexican, Food, Ethnic Food, Restaurants, Specialty Food, Imported Food\n",
      "Local Services, Bridal, Watches, Jewelry Repair, Jewelry, Shopping\n",
      "Restaurants, Pizza\n",
      "Gas Stations, Automotive, Convenience Stores, Food\n",
      "Nightlife, Lounges, Bars\n",
      "Home & Garden, Mattresses, Furniture Stores, Shopping\n",
      "Restaurants, Food, Coffee & Tea\n",
      "Home Services, Security Systems, Lighting Fixtures & Equipment, Contractors, Local Services, Electricians, Electronics Repair\n",
      "Libraries, Public Services & Government\n",
      "Health & Medical, Medical Centers, Sports Medicine, Podiatrists, Doctors\n",
      "Property Management, Contractors, Handyman, Real Estate, Home Services, Flooring\n",
      "Mexican, Fast Food, Restaurants\n",
      "Videos & Video Game Rental, Professional Services, Local Services, Home Services, Television Service Providers, Books, Mags, Music & Video, Internet Service Providers, Telecommunications, Shopping, IT Services & Computer Repair\n",
      "Chicken Wings, Fast Food, Restaurants, Chicken Shop\n",
      "Steakhouses, Restaurants\n",
      "Vitamins & Supplements, Coffee & Tea, Food, Shopping, Juice Bars & Smoothies\n",
      "Tires, Automotive, Auto Repair, Auto Customization, Car Window Tinting, Auto Glass Services\n",
      "Men's Clothing, Shopping, Fashion, Accessories, Women's Clothing\n",
      "Real Estate Services, Real Estate Agents, Real Estate, Home Services\n",
      "Restaurants, Delis, Breakfast & Brunch, American (Traditional), Food, Bakeries, Bagels\n",
      "Beauty & Spas, Piercing, Tattoo\n",
      "Fast Food, Sandwiches, Restaurants, American (New)\n"
     ]
    },
    {
     "name": "stdout",
     "output_type": "stream",
     "text": [
      "Waxing, Eyelash Service, Beauty & Spas, Hair Removal, Skin Care\n",
      "Cocktail Bars, Italian, American (New), Nightlife, Bars, Pizza, Restaurants\n",
      "Day Spas, Hair Salons, Beauty & Spas\n",
      "Delis, Restaurants, Sandwiches, Pizza\n",
      "Restaurants, Italian, Pizza\n",
      "Post Offices, Notaries, Shipping Centers, Local Services, Mailbox Centers, Printing Services, Public Services & Government\n",
      "Foundation Repair, Contractors, Waterproofing, Home Services\n",
      "Education, Middle Schools & High Schools\n",
      "Vietnamese, Restaurants\n",
      "Food, Breakfast & Brunch, Ice Cream & Frozen Yogurt, Mexican, Cafes, Restaurants\n",
      "Walking Tours, Tours, Hotels & Travel\n",
      "Home Services, Professional Services, Real Estate, Real Estate Agents, Real Estate Services\n",
      "Fruits & Veggies, Delis, Restaurants, Bakeries, Specialty Food, Farms, Arts & Entertainment, Food\n",
      "Home Services, Mortgage Brokers, Real Estate\n",
      "Hair Salons, Nail Salons, Beauty & Spas, Makeup Artists, Day Spas, Eyelash Service\n",
      "Auto Repair, Car Dealers, Auto Detailing, Body Shops, Automotive\n",
      "Tree Services, Home Services\n",
      "Event Planning & Services, Venues & Event Spaces\n",
      "Pets, Pet Stores, Pet Services\n",
      "Pizza, Restaurants\n",
      "Venues & Event Spaces, Bars, Mexican, Nightlife, Event Planning & Services, Restaurants\n",
      "Shopping, Cosmetics & Beauty Supply, Hair Salons, Eyelash Service, Hair Extensions, Day Spas, Beauty & Spas\n",
      "Child Care & Day Care, Preschools, Local Services, Education\n",
      "Shopping, Books, Mags, Music & Video, Bookstores\n",
      "Cabinetry, Home Services\n",
      "Hot Dogs, Restaurants\n",
      "Hair Removal, Beauty & Spas\n",
      "Performing Arts, Arts & Entertainment\n",
      "Shopping, Flowers & Gifts, Arts & Crafts, Event Planning & Services, Home Decor, Home & Garden, Art Supplies, Cards & Stationery\n",
      "Restaurants, Mexican, Bars, Nightlife\n",
      "Restaurants, Chinese, Dim Sum\n",
      "Taekwondo, Gyms, Martial Arts, Education, Active Life, Fitness & Instruction, Educational Services\n",
      "Doctors, Health & Medical, Pediatricians\n",
      "Physical Therapy, Doctors, Chiropractors, Health & Medical, Naturopathic/Holistic, Acupuncture\n",
      "Bubble Tea, Food, Coffee & Tea, Desserts\n",
      "Transportation, Airlines, Hotels & Travel\n",
      "Soccer, Active Life, Parks, Playgrounds\n",
      "Food, Ice Cream & Frozen Yogurt\n",
      "Flooring, Home Services, Carpet Cleaning, Tiling, Office Cleaning, Local Services, Refinishing Services, Grout Services, Home Cleaning, Professional Services, Contractors\n",
      "Grocery, Shopping, Food, Florists, Flowers & Gifts, Convenience Stores\n",
      "Appliances, Shopping, Home & Garden\n",
      "Local Services, Electronics Repair, IT Services & Computer Repair, Mobile Phone Repair\n",
      "Active Life, Parks, Landmarks & Historical Buildings, Local Flavor, Public Services & Government\n",
      "Car Dealers, Auto Parts & Supplies, Auto Repair, Automotive\n",
      "Food, Bakeries\n",
      "Health & Medical, Hospitals, Doctors, Emergency Rooms, Family Practice\n",
      "Shopping, Men's Clothing, Accessories, Fashion, Plus Size Fashion, Women's Clothing\n",
      "Restaurants\n",
      "Home Cleaning, Home Services\n",
      "Mexican, Restaurants\n",
      "Restaurants, Southern, American (New), American (Traditional)\n",
      "Physical Therapy, Health & Medical\n",
      "Furniture Stores, Home & Garden, Shopping, Mattresses\n",
      "Day Spas, Beauty & Spas, Skin Care, Makeup Artists\n",
      "Sandwiches, Soup, Restaurants\n",
      "Pilates, Active Life, Yoga, Fitness & Instruction, Sports Clubs, Gyms\n",
      "Beauty & Spas, Hair Removal, Laser Hair Removal\n",
      "Coffee & Tea, Food, Tea Rooms, Desserts\n",
      "Pet Services, Veterinarians, Pets, Emergency Pet Hospital\n",
      "Car Dealers, Automotive, Auto Repair\n",
      "Automotive, Towing, Oil Change Stations, Auto Repair\n",
      "Restaurants, American (Traditional)\n",
      "American (Traditional), Breakfast & Brunch, Diners, American (New), Restaurants\n",
      "Restaurants, Sandwiches\n",
      "Education, Middle Schools & High Schools, Elementary Schools\n",
      "Food, Convenience Stores\n",
      "Restaurants, Bars, Seafood, Nightlife, Pubs\n",
      "Health & Medical, Community Service/Non-Profit, Local Services\n",
      "Hot Tub & Pool, Home & Garden, Pool Cleaners, Home Services, Shopping\n",
      "Sports Clubs, Local Services, Community Service/Non-Profit, Child Care & Day Care, Active Life, Gyms, Fitness & Instruction\n",
      "Shopping, Mobile Phone Repair, Local Services, Mobile Phones, IT Services & Computer Repair\n",
      "Beauty & Spas, Nail Salons\n",
      "Active Life, Gyms, Trainers, Fitness & Instruction\n",
      "Emergency Rooms, Health & Medical, Hospitals, Medical Centers\n",
      "Fashion, Shopping, Lingerie\n",
      "Cinema, Arts & Entertainment\n",
      "Plus Size Fashion, Shopping, Fashion, Accessories, Women's Clothing\n",
      "Arts & Entertainment, Home Decor, Shopping, Home & Garden, Art Galleries\n",
      "Restaurants, Pizza\n",
      "Bakeries, Food, Coffee & Tea\n",
      "Hobby Shops, Shopping, Photography Stores & Services\n",
      "Automotive, Auto Repair, Auto Parts & Supplies, Oil Change Stations\n",
      "Shopping, Lingerie, Fashion, Swimwear\n",
      "Windows Installation, Home Services\n",
      "Restaurants, Thai\n",
      "Sandwiches, Poutineries, Restaurants, Cafes\n",
      "Bars, Pubs, Nightlife\n",
      "Specialty Schools, Beauty & Spas, Cosmetology Schools, Hair Salons, Education, Vocational & Technical School\n",
      "Local Services, Laundry Services, Dry Cleaning & Laundry\n",
      "Event Planning & Services, Restaurants, Fast Food, Sandwiches, Caterers\n",
      "Local Services, Community Service/Non-Profit, Medical Centers, Blood & Plasma Donation Centers, Health & Medical\n",
      "Body Shops, Oil Change Stations, Auto Repair, Automotive\n",
      "Doctors, Internal Medicine, Health & Medical\n",
      "Lingerie, Shopping, Fashion\n",
      "French, Restaurants\n",
      "Auto Repair, Automotive, Oil Change Stations\n",
      "Lounges, Event Planning & Services, Venues & Event Spaces, Bars, Nightlife\n",
      "Restaurants, American (Traditional)\n",
      "Insurance, Tours, Travel Services, Financial Services, Hotels & Travel\n",
      "Automotive, Auto Parts & Supplies\n",
      "Food, Juice Bars & Smoothies, Coffee & Tea\n",
      "Coffee & Tea, Food, Cafes, Restaurants\n",
      "Restaurants, Bars, Nightlife, Pizza, Sports Bars\n",
      "Keys & Locksmiths, Home Services\n",
      "Veterinarians, Pets\n",
      "Breakfast & Brunch, Restaurants, Coffee & Tea, American (Traditional), Food\n",
      "Pets, Veterinarians, Animal Shelters\n",
      "Transportation, Party Equipment Rentals, DJs, Limos, Professional Services, Hotels & Travel, Event Planning & Services, Local Services\n",
      "African, Bars, Restaurants, Nightlife\n",
      "Automotive, Car Dealers\n",
      "Food, Grocery\n",
      "Laser Hair Removal, Body Contouring, Beauty & Spas, Tattoo Removal, Health & Medical, Doctors, Medical Spas, Hair Removal\n",
      "Pet Services, Pet Groomers, Pet Sitting, Pets, Veterinarians, Pet Boarding\n",
      "Parks, Active Life, Playgrounds\n",
      "Pizza, Restaurants, Italian\n",
      "Women's Clothing, Shopping, Men's Clothing, Outlet Stores, Fashion\n",
      "Burgers, Fast Food, Restaurants\n",
      "American (Traditional), Restaurants, Bars, Nightlife\n",
      "Vitamins & Supplements, Shopping, Health Markets, Food, Weight Loss Centers, Specialty Food, Health & Medical\n",
      "Movers, Home Services\n",
      "Real Estate Services, Real Estate, Real Estate Agents, Home Services\n",
      "Beer Bar, Beer, Wine & Spirits, Restaurants, American (New), Nightlife, Bars, Food\n",
      "Shopping, Musical Instruments & Teachers\n",
      "Shopping, Drugstores, Vitamins & Supplements\n",
      "Restaurants, Indian, Kosher\n",
      "Tapas/Small Plates, Italian, Pizza, Restaurants\n",
      "Health & Medical, Midwives\n",
      "Restaurants, Pizza\n",
      "Barbeque, Filipino, Buffets, Fish & Chips, Restaurants\n",
      "Restaurants, Pizza\n",
      "Health & Medical, Dentists, Endodontists, Cosmetic Dentists, General Dentistry\n",
      "Property Management, Real Estate, Apartments, Home Services\n",
      "Veterinarians, Pet Stores, Pets\n",
      "American (Traditional), Modern European, Ukrainian, Burgers, Barbeque, Imported Food, Mediterranean, Specialty Food, Food, Ethnic Food, Restaurants\n",
      "Heating & Air Conditioning/HVAC, Professional Services, Carpet Cleaning, Home Services, Home Cleaning, Air Duct Cleaning, Local Services\n",
      "Sporting Goods, Sports Wear, Watches, Shopping, Fashion, Used, Vintage & Consignment, Accessories, Women's Clothing, Men's Clothing\n",
      "Automotive, Mobile Phone Repair, Local Services, Shopping, Battery Stores, Lighting Fixtures & Equipment, IT Services & Computer Repair, Electronics Repair, Photography Stores & Services, Hardware Stores, Home Services, Motorcycle Dealers, Home & Garden, Electronics\n",
      "Pizza, Restaurants, Italian, Chicken Wings\n",
      "Churches, Religious Organizations\n",
      "Restaurants, French, Italian\n",
      "Chiropractors, Health & Medical\n",
      "Blow Dry/Out Services, Cosmetics & Beauty Supply, Beauty & Spas, Shopping, Hair Extensions, Hair Salons\n",
      "Shopping, Pawn Shops\n",
      "Thai, Restaurants\n",
      "Pet Stores, Pet Groomers, Pet Services, Pets\n",
      "Restaurants, Fast Food\n",
      "Event Planning & Services, Party & Event Planning, Venues & Event Spaces, Wedding Planning\n",
      "Yoga, Fitness & Instruction, Health & Medical, Massage Therapy, Active Life, Pilates\n",
      "Hobby Shops, Venues & Event Spaces, Event Planning & Services, Shopping\n",
      "Appliances & Repair, Local Services, Shopping, Department Stores, Fashion\n",
      "Sports Bars, Nightlife, Chicken Wings, Restaurants, Bars, American (Traditional)\n",
      "Restaurants, American (Traditional)\n",
      "Eyewear & Opticians, Optometrists, Health & Medical, Shopping\n",
      "Cosmetics & Beauty Supply, Beauty & Spas, Skin Care, Shopping, Hair Salons\n",
      "Yoga, Active Life, Fitness & Instruction\n",
      "Local Flavor, Adult Entertainment, Bingo Halls, Nightlife, Arts & Entertainment, Casinos, Event Planning & Services, Venues & Event Spaces\n",
      "Nightlife, Restaurants, Bars, Burgers, Delis\n",
      "Pets, Pet Stores\n",
      "Bagels, Donuts, Coffee & Tea, Breakfast & Brunch, Restaurants, Food\n",
      "Shopping, Outlet Stores, Shopping Centers\n",
      "Health & Medical, Medical Centers\n",
      "Pet Groomers, Pets, Pet Sitting, Pet Services\n",
      "Sewing & Alterations, Local Services\n",
      "Landscaping, Home Services\n",
      "Dentists, General Dentistry, Endodontists, Cosmetic Dentists, Health & Medical\n",
      "Active Life, Amateur Sports Teams\n",
      "Parks, Active Life\n",
      "Beauty & Spas, Hair Salons, Barbers\n",
      "Bars, Nightlife, Dive Bars\n",
      "Men's Clothing, Department Stores, Shopping, Plus Size Fashion, Fashion, Shoe Stores, Accessories\n",
      "Beauty & Spas, Skin Care, Hair Removal, Hair Salons\n",
      "Mexican, Restaurants, Food, Food Trucks\n",
      "Active Life, Trainers, Physical Therapy, Pilates, Health & Medical, Fitness & Instruction, Cardio Classes\n",
      "Auto Repair, Automotive\n",
      "Breakfast & Brunch, Greek, American (Traditional), Restaurants, Mediterranean\n",
      "Restaurants, Desserts, Sandwiches, Cafes, French, Coffee & Tea, Food, Breakfast & Brunch\n",
      "Beauty & Spas, Barbers, Hair Salons\n",
      "Acupuncture, Health & Medical, Naturopathic/Holistic, Nutritionists, Weight Loss Centers, Doctors\n",
      "Waxing, Permanent Makeup, Day Spas, Skin Care, Beauty & Spas, Hair Removal\n",
      "Gyms, Trainers, Active Life, Fitness & Instruction\n",
      "Beer, Wine & Spirits, Whiskey Bars, Coffee & Tea, Beer Bar, Breakfast & Brunch, Bars, Cocktail Bars, Food, Cafes, Wine Bars, Restaurants, Local Flavor, Nightlife\n",
      "Sports Bars, Nightlife, Bars, Chicken Wings, Restaurants, American (Traditional)\n",
      "Motorcycle Dealers, Automotive, Motorcycle Repair\n",
      "Video Game Stores, Videos & Video Game Rental, Shopping, Books, Mags, Music & Video, Hobby Shops\n",
      "Auto Parts & Supplies, Automotive, Car Dealers, Auto Repair\n",
      "Appliances & Repair, Local Services\n",
      "African, Restaurants\n",
      "Dentists, Health & Medical, Oral Surgeons\n",
      "American (Traditional), Restaurants\n"
     ]
    }
   ],
   "source": [
    "# Preview few categories for the business json\n",
    "with open(source_data_path+\"yelp_academic_dataset_business.json\", encoding='utf_8') as business_json_file:\n",
    "    for line_no, business_json in enumerate(business_json_file):\n",
    "        if line_no > 1000:\n",
    "            break\n",
    "        else:\n",
    "            business_record = json.loads(business_json)\n",
    "            print(business_record[u'categories'])"
   ]
  },
  {
   "cell_type": "markdown",
   "metadata": {},
   "source": [
    "As there are many categories, lets visualize it using a Word Cloud."
   ]
  },
  {
   "cell_type": "code",
   "execution_count": 45,
   "metadata": {},
   "outputs": [
    {
     "name": "stdout",
     "output_type": "stream",
     "text": [
      "['golf', 'active life', 'specialty food', 'restaurants', 'dim sum']\n",
      "['Golf, Active Life', 'Specialty Food, Restaurants, Dim Sum, Imported Food, Food, Chinese, Ethnic Food, Seafood', 'Sushi Bars, Restaurants, Japanese', 'Insurance, Financial Services', 'Plumbing, Shopping, Local Services, Home Services, Kitchen & Bath, Home & Garden, Water Heater Installation/Repair']\n"
     ]
    }
   ],
   "source": [
    "# Print a Word Cloud on Categories\n",
    "business_all_categories=[]\n",
    "with open(source_data_path+\"yelp_academic_dataset_business.json\", encoding='utf_8') as business_json_file:\n",
    "    for line_no, business_json in enumerate(business_json_file):\n",
    "        if line_no > 10000:\n",
    "            break\n",
    "        else:\n",
    "            business_record = json.loads(business_json)\n",
    "            if business_record[u'categories'] is not None:\n",
    "                business_all_categories.append(business_record[u'categories'])\n",
    "                categories = [x.strip().lower() for x in business_record[u'categories'].split(',')]\n",
    "                business_categories+= categories\n",
    "                \n",
    "print(business_categories[:5])\n",
    "print(business_all_categories[:5])"
   ]
  },
  {
   "cell_type": "code",
   "execution_count": 39,
   "metadata": {},
   "outputs": [
    {
     "data": {
      "image/png": "[encoded data removed]",
      "text/plain": [
       "<Figure size 1440x720 with 1 Axes>"
      ]
     },
     "metadata": {
      "needs_background": "light"
     },
     "output_type": "display_data"
    }
   ],
   "source": [
    "frequency_dist = nltk.FreqDist(business_categories)\n",
    "wordcloud = WordCloud().generate_from_frequencies(frequency_dist)\n",
    "plt.figure(figsize=(20,10))\n",
    "plt.imshow(wordcloud)\n",
    "plt.axis(\"off\")\n",
    "plt.show()"
   ]
  },
  {
   "cell_type": "code",
   "execution_count": 51,
   "metadata": {},
   "outputs": [],
   "source": [
    "# We will now try to visualize the categoreis that do not contain restaurants but contain food\n",
    "# to be certain if there are other categories we should choose.\n",
    "\n",
    "other_restaurants = [x for x in business_all_categories if 'food' in x.lower() and 'restaurants' not in x.lower()]"
   ]
  },
  {
   "cell_type": "code",
   "execution_count": 52,
   "metadata": {},
   "outputs": [],
   "source": [
    "other_restaurants_categories = [x.strip().lower() for k in other_restaurants for x in k.split(',')]"
   ]
  },
  {
   "cell_type": "code",
   "execution_count": 53,
   "metadata": {},
   "outputs": [
    {
     "data": {
      "image/png": "[encoded data removed]",
      "text/plain": [
       "<Figure size 1440x720 with 1 Axes>"
      ]
     },
     "metadata": {
      "needs_background": "light"
     },
     "output_type": "display_data"
    }
   ],
   "source": [
    "\n",
    "\n",
    "frequency_other_restaurants = nltk.FreqDist(other_restaurants_categories)\n",
    "wordcloud = WordCloud().generate_from_frequencies(frequency_other_restaurants)\n",
    "plt.figure(figsize=(20,10))\n",
    "plt.imshow(wordcloud)\n",
    "plt.axis(\"off\")\n",
    "plt.show()"
   ]
  },
  {
   "cell_type": "markdown",
   "metadata": {},
   "source": [
    "## Categories in Scope for Restaurants\n",
    "Based on our above exploration, we noticed that many establishments have multiple categories. <br>\n",
    "The establishments with the following categories seem to best match the restaurants I would like to analyze\n",
    "(1) Restaurants, (2) Bakeries, (3) Juice Bars <br>\n",
    "Hence, we will gather reviews for all the establishments that are in at least one of above categories. \n",
    "All other reviews will be outside the scope of our project.<br>"
   ]
  },
  {
   "cell_type": "markdown",
   "metadata": {},
   "source": [
    "<b>Prototype </b>\n",
    "For the prototype, we will look for all restaurants within top 50000 business establishments."
   ]
  },
  {
   "cell_type": "code",
   "execution_count": 3,
   "metadata": {
    "scrolled": true
   },
   "outputs": [],
   "source": [
    "restaurant_id_set = set()\n",
    "with open(source_data_path+\"yelp_academic_dataset_business.json\", encoding='utf_8') as business_json_file:\n",
    "    for line_no, business_json in enumerate(business_json_file):\n",
    "        if line_no > 50000:\n",
    "            break\n",
    "        else:\n",
    "            business_record = json.loads(business_json)\n",
    "            \n",
    "            #Check whether the business is a restaurant\n",
    "            if business_record[u'categories'] is not None:\n",
    "                if u'restaurants' in business_record[u'categories'].lower() \\\n",
    "                or u'bakeries' in business_record[u'categories'].lower() \\\n",
    "                or u'juice bars' in business_record[u'categories'].lower():\n",
    "                    #print(business_record[u'categories'])\n",
    "                    restaurant_id_set.add(business_record[u'business_id'])\n",
    "                else:                    \n",
    "                    continue            \n",
    "                "
   ]
  },
  {
   "cell_type": "code",
   "execution_count": 4,
   "metadata": {
    "scrolled": true
   },
   "outputs": [
    {
     "name": "stdout",
     "output_type": "stream",
     "text": [
      "15989\n"
     ]
    }
   ],
   "source": [
    "print(len(restaurant_id_set))\n",
    "restaurant_id_set = frozenset(restaurant_id_set)"
   ]
  },
  {
   "cell_type": "markdown",
   "metadata": {},
   "source": [
    "We will consider reviews of these 16000 establishments in restaurant category. <br>\n",
    "The restaurant_id_set was converted to a frozenset so that it can't be accidentally modified. <br>"
   ]
  },
  {
   "cell_type": "markdown",
   "metadata": {},
   "source": [
    "<b>Classification</b>\n",
    "Collecting the files for classification <br>\n",
    "(1) Look through firdt 200,000 reviews and collect positive and negative reviews."
   ]
  },
  {
   "cell_type": "code",
   "execution_count": 5,
   "metadata": {
    "scrolled": true
   },
   "outputs": [
    {
     "name": "stdout",
     "output_type": "stream",
     "text": [
      "Total number of reviews:  112662\n"
     ]
    }
   ],
   "source": [
    "## Collect reviews for the restaurants in the set\n",
    "## Data Preparation\n",
    "if True:\n",
    "    review_count=0\n",
    "    \n",
    "    # Write the reviews in text format. \n",
    "    with open(intermediate_data_path+\"yelp_restaurants_reviews_classification.txt\", 'w' ,encoding='utf_8') as review_txt_file:\n",
    "        with open(source_data_path+\"yelp_academic_dataset_review.json\", encoding='utf_8') as review_json_file:\n",
    "            for line_no, review_json in enumerate(review_json_file):\n",
    "                if line_no > 200000:\n",
    "                    break\n",
    "                else:\n",
    "                    review_record=json.loads(review_json)\n",
    "\n",
    "                    #Check if the review is about a restaurant\n",
    "                    if review_record[u'business_id'] not in restaurant_id_set or int(review_record[u'stars'])==3 :\n",
    "                        continue\n",
    "                    #Write restaurant review as a line in the new file\n",
    "                    #escape new line characters in the original review file\n",
    "                    if int(review_record[u'stars']) in [4,5]:\n",
    "                        review='P'\n",
    "                    else:\n",
    "                        review='N'\n",
    "                    \n",
    "                    review_txt_file.write(str(int(review_record[u'stars'])) + '#$#' + review + '#$#' + review_record[u'text'].replace('\\n', '\\\\n')+'\\n')\n",
    "                    review_count+=1\n",
    "    print(\"Total number of reviews: \", review_count) "
   ]
  },
  {
   "cell_type": "markdown",
   "metadata": {},
   "source": [
    "# Classifier"
   ]
  },
  {
   "cell_type": "markdown",
   "metadata": {
    "scrolled": true
   },
   "source": [
    "# Preparing the Training and Test Dataset"
   ]
  },
  {
   "cell_type": "code",
   "execution_count": 5,
   "metadata": {
    "scrolled": true
   },
   "outputs": [
    {
     "name": "stdout",
     "output_type": "stream",
     "text": [
      "Total Number of Reviews in Training: (10000, 2)\n"
     ]
    }
   ],
   "source": [
    "training_reviews=pd.DataFrame()\n",
    "ratings=[]\n",
    "reviews_text=[]\n",
    "with open( os.path.join(intermediate_data_path,\"yelp_restaurants_reviews_classification_rev.txt\") ,\"r\", encoding='utf_8') as fin:\n",
    "    for line_no, line in enumerate(fin):\n",
    "        if line_no >= 10000:\n",
    "            break\n",
    "        else:\n",
    "            #print(line_no)\n",
    "            text = line.strip().split('#$#')\n",
    "            if text[1]=='P':\n",
    "                rating_val=1\n",
    "            else:\n",
    "                rating_val=0\n",
    "            ratings.append(rating_val)    \n",
    "            reviews_text.append(text[2].replace('\\\\n', '\\n'))\n",
    "training_reviews['rating']= ratings\n",
    "training_reviews['text']= reviews_text\n",
    "print(\"Total Number of Reviews in Training:\",training_reviews.shape)"
   ]
  },
  {
   "cell_type": "code",
   "execution_count": 6,
   "metadata": {},
   "outputs": [
    {
     "name": "stdout",
     "output_type": "stream",
     "text": [
      "Total Number of Reviews in Test Dataset: (3000, 2)\n"
     ]
    }
   ],
   "source": [
    "# Restaurant Reviews Test Dataset \n",
    "\n",
    "test_reviews=pd.DataFrame()\n",
    "ratings=[]\n",
    "reviews_text=[]\n",
    "with open( os.path.join(intermediate_data_path,\"yelp_restaurants_reviews_classification_rev.txt\") ,\"r\", encoding='utf_8') as fin:\n",
    "    for line_no, line in enumerate(fin):\n",
    "        if line_no >= 13001:\n",
    "            break\n",
    "        elif line_no <=10000:\n",
    "            pass\n",
    "        elif 10001 <= line_no <= 13000:\n",
    "            #print(line_no)\n",
    "            text = line.strip().split('#$#')\n",
    "            if text[1]=='P':\n",
    "                rating_val=1\n",
    "            else:\n",
    "                rating_val=0\n",
    "            ratings.append(rating_val)    \n",
    "            reviews_text.append(text[2].replace('\\\\n', '\\n'))\n",
    "            \n",
    "test_reviews['rating']= ratings\n",
    "test_reviews['text']= reviews_text\n",
    "print(\"Total Number of Reviews in Test Dataset:\",test_reviews.shape)"
   ]
  },
  {
   "cell_type": "markdown",
   "metadata": {},
   "source": [
    "Preview the dataframe. Rating = 1 means the review is positive and Rating = 0 means the review is negative. "
   ]
  },
  {
   "cell_type": "code",
   "execution_count": 11,
   "metadata": {
    "scrolled": true
   },
   "outputs": [
    {
     "data": {
      "text/html": [
       "<div>\n",
       "<style scoped>\n",
       "    .dataframe tbody tr th:only-of-type {\n",
       "        vertical-align: middle;\n",
       "    }\n",
       "\n",
       "    .dataframe tbody tr th {\n",
       "        vertical-align: top;\n",
       "    }\n",
       "\n",
       "    .dataframe thead th {\n",
       "        text-align: right;\n",
       "    }\n",
       "</style>\n",
       "<table border=\"1\" class=\"dataframe\">\n",
       "  <thead>\n",
       "    <tr style=\"text-align: right;\">\n",
       "      <th></th>\n",
       "      <th>rating</th>\n",
       "      <th>text</th>\n",
       "    </tr>\n",
       "  </thead>\n",
       "  <tbody>\n",
       "    <tr>\n",
       "      <th>0</th>\n",
       "      <td>1</td>\n",
       "      <td>Went in for a lunch. Steak sandwich was delicious, and the Caesar salad had an absolutely delicious dressing, with a perfect amount of dressing, and distributed perfectly across each leaf. I know I'm going on about the salad ... But it was perfect.\\n\\nDrink prices were pretty good.\\n\\nThe Server, Dawn, was friendly and accommodating. Very happy with her.\\n\\nIn summation, a great pub experience. Would go again!</td>\n",
       "    </tr>\n",
       "    <tr>\n",
       "      <th>1</th>\n",
       "      <td>1</td>\n",
       "      <td>I'll be the first to admit that I was not excited about going to La Tavolta. Being a food snob, when a group of friends suggested we go for dinner I looked online at the menu and to me there was nothing special and it seemed overpriced.  Im also not big on ordering pasta when I go out. Alas, I was outnumbered. Thank goodness! I ordered the sea bass special. It was to die for. Cooked perfectly, seasoned perfectly, perfect portion. I can not say enough good things about this dish. When the ser...</td>\n",
       "    </tr>\n",
       "    <tr>\n",
       "      <th>2</th>\n",
       "      <td>0</td>\n",
       "      <td>This place has gone down hill.  Clearly they have cut back on staff and food quality\\n\\nMany of the reviews were written before the menu changed.  I've been going for years and the food quality has gone down hill.\\n\\nThe service is slow &amp; my salad, which was $15, was as bad as it gets.\\n\\nIt's just not worth spending the money on this place when there are so many other options.</td>\n",
       "    </tr>\n",
       "    <tr>\n",
       "      <th>3</th>\n",
       "      <td>1</td>\n",
       "      <td>Like walking back in time, every Saturday morning my sister and I was in a bowling league and after we were done, we'd spend a few quarters playing the pin ball machines until our mother came to pick us up.\\n\\nMy sister was daring and play the machines hard, she was afraid of that \"tilt\" showing up and freezing the game.  I, on the other hand was a bit more gentler and wanted to make sure I got my quarter's worth.\\n\\nThis place has rows and rows of machines, some are really old and some are ...</td>\n",
       "    </tr>\n",
       "    <tr>\n",
       "      <th>4</th>\n",
       "      <td>0</td>\n",
       "      <td>Walked in around 4 on a Friday afternoon, we sat at a table just off the bar and walked out after 5 min or so. Don't even think they realized we walked in. However everyone at the bar noticed we walked in!!! Service was non existent at best. Not a good way for a new business to start out. Oh well, the location they are at has been about 5 different things over the past several years, so they will just be added to the list. SMDH!!!</td>\n",
       "    </tr>\n",
       "  </tbody>\n",
       "</table>\n",
       "</div>"
      ],
      "text/plain": [
       "   rating  \\\n",
       "0       1   \n",
       "1       1   \n",
       "2       0   \n",
       "3       1   \n",
       "4       0   \n",
       "\n",
       "                                                                                                                                                                                                                                                                                                                                                                                                                                                                                                                  text  \n",
       "0                                                                                        Went in for a lunch. Steak sandwich was delicious, and the Caesar salad had an absolutely delicious dressing, with a perfect amount of dressing, and distributed perfectly across each leaf. I know I'm going on about the salad ... But it was perfect.\\n\\nDrink prices were pretty good.\\n\\nThe Server, Dawn, was friendly and accommodating. Very happy with her.\\n\\nIn summation, a great pub experience. Would go again!  \n",
       "1  I'll be the first to admit that I was not excited about going to La Tavolta. Being a food snob, when a group of friends suggested we go for dinner I looked online at the menu and to me there was nothing special and it seemed overpriced.  Im also not big on ordering pasta when I go out. Alas, I was outnumbered. Thank goodness! I ordered the sea bass special. It was to die for. Cooked perfectly, seasoned perfectly, perfect portion. I can not say enough good things about this dish. When the ser...  \n",
       "2                                                                                                                         This place has gone down hill.  Clearly they have cut back on staff and food quality\\n\\nMany of the reviews were written before the menu changed.  I've been going for years and the food quality has gone down hill.\\n\\nThe service is slow & my salad, which was $15, was as bad as it gets.\\n\\nIt's just not worth spending the money on this place when there are so many other options.  \n",
       "3  Like walking back in time, every Saturday morning my sister and I was in a bowling league and after we were done, we'd spend a few quarters playing the pin ball machines until our mother came to pick us up.\\n\\nMy sister was daring and play the machines hard, she was afraid of that \"tilt\" showing up and freezing the game.  I, on the other hand was a bit more gentler and wanted to make sure I got my quarter's worth.\\n\\nThis place has rows and rows of machines, some are really old and some are ...  \n",
       "4                                                                   Walked in around 4 on a Friday afternoon, we sat at a table just off the bar and walked out after 5 min or so. Don't even think they realized we walked in. However everyone at the bar noticed we walked in!!! Service was non existent at best. Not a good way for a new business to start out. Oh well, the location they are at has been about 5 different things over the past several years, so they will just be added to the list. SMDH!!!  "
      ]
     },
     "execution_count": 11,
     "metadata": {},
     "output_type": "execute_result"
    }
   ],
   "source": [
    "training_reviews.head(5)"
   ]
  },
  {
   "cell_type": "code",
   "execution_count": 9,
   "metadata": {},
   "outputs": [
    {
     "name": "stdout",
     "output_type": "stream",
     "text": [
      "1    0.7649\n",
      "0    0.2351\n",
      "Name: rating, dtype: float64\n",
      "\n",
      "Predicting only 1 = 76.49% accuracy\n"
     ]
    },
    {
     "data": {
      "image/png": "[encoded data removed]",
      "text/plain": [
       "<Figure size 432x288 with 1 Axes>"
      ]
     },
     "metadata": {},
     "output_type": "display_data"
    }
   ],
   "source": [
    "# Check the frequency of class variable\n",
    "print(training_reviews.rating.value_counts(normalize=True))\n",
    "counts = training_reviews.rating.value_counts()\n",
    "print(\"\\nPredicting only 1 = {:.2f}% accuracy\".format(counts[1] / sum(counts) * 100))\n",
    "\n",
    "ax = sns.countplot(x=\"rating\", data=training_reviews)\n",
    "plt.xlabel('Ratings',fontsize=18)\n",
    "plt.ylabel('Counts',fontsize=18)\n",
    "#plt.legend()\n",
    "plt.show(ax)"
   ]
  },
  {
   "cell_type": "markdown",
   "metadata": {},
   "source": [
    "<b>Analysis </b>\n",
    "As we are dealing with imbalanced class (76% Positive rating), We will use SMOTE upsampling while building the classifier. <br>"
   ]
  },
  {
   "cell_type": "code",
   "execution_count": 19,
   "metadata": {},
   "outputs": [],
   "source": [
    "X = training_reviews.text\n",
    "y = training_reviews.rating"
   ]
  },
  {
   "cell_type": "code",
   "execution_count": 20,
   "metadata": {},
   "outputs": [],
   "source": [
    "def score_cross_validation(alpha, min_df):\n",
    "\n",
    "    ss = ShuffleSplit(n_splits=10, test_size=0.2, random_state=42)\n",
    "    sm = SMOTE()\n",
    "\n",
    "    accs = []\n",
    "    #f1s = []\n",
    "    #cms = []\n",
    "\n",
    "    vectorizer = CountVectorizer(min_df = min_df)\n",
    "    nb_classifier = MultinomialNB(alpha = alpha)\n",
    "\n",
    "    for train_index, test_index in ss.split(X):\n",
    "\n",
    "        X_train, X_test = X.iloc[train_index], X.iloc[test_index]\n",
    "        y_train, y_test = y.iloc[train_index], y.iloc[test_index]\n",
    "\n",
    "        # Fit vectorizer and transform X train, then transform X test\n",
    "        X_train_vect = vectorizer.fit_transform(X_train)\n",
    "        X_test_vect = vectorizer.transform(X_test)\n",
    "\n",
    "        # Oversample\n",
    "        X_train_res, y_train_res = sm.fit_sample(X_train_vect, y_train)\n",
    "\n",
    "        # Fit Naive Bayes on the vectorized X with y train labels, \n",
    "        # then predict new y labels using X test\n",
    "        nb_classifier.fit(X_train_res, y_train_res)\n",
    "        y_pred = nb_classifier.predict(X_test_vect)\n",
    "\n",
    "        # Determine test set accuracy and f1 score on this fold using the true y labels and predicted y labels\n",
    "        accs.append(accuracy_score(y_test, y_pred))\n",
    "        #f1s.append(f1_score(y_test, y_pred))\n",
    "        #cms.append(confusion_matrix(y_test, y_pred))\n",
    "    return sum(accs) / len(accs) * 100.0\n",
    "    #print(\"\\nAverage accuracy across folds: {:.2f}%\".format(sum(accs) / len(accs) * 100))\n",
    "    #print(\"\\nAverage F1 score across folds: {:.2f}%\".format(sum(f1s) / len(f1s) * 100))\n",
    "    #print(\"\\nAverage Confusion Matrix across folds: \\n {}\".format(sum(cms) / len(cms)))"
   ]
  },
  {
   "cell_type": "code",
   "execution_count": 22,
   "metadata": {},
   "outputs": [
    {
     "name": "stdout",
     "output_type": "stream",
     "text": [
      "alpha:  0.01  min_df:  1  score: 90.82000000000001\n",
      "alpha:  0.01  min_df:  0.1  score: 83.395\n",
      "alpha:  0.01  min_df:  0.01  score: 90.08999999999997\n",
      "alpha:  0.01  min_df:  0.001  score: 91.64999999999998\n",
      "alpha:  0.01  min_df:  0.0001  score: 90.83\n",
      "alpha:  0.1  min_df:  1  score: 91.67500000000001\n",
      "alpha:  0.1  min_df:  0.1  score: 83.34000000000002\n",
      "alpha:  0.1  min_df:  0.01  score: 90.13499999999999\n",
      "alpha:  0.1  min_df:  0.001  score: 91.855\n",
      "alpha:  0.1  min_df:  0.0001  score: 91.53\n",
      "alpha:  1  min_df:  1  score: 91.92\n",
      "alpha:  1  min_df:  0.1  score: 83.39999999999999\n",
      "alpha:  1  min_df:  0.01  score: 90.14000000000001\n",
      "alpha:  1  min_df:  0.001  score: 91.84500000000003\n",
      "alpha:  1  min_df:  0.0001  score: 91.98\n",
      "alpha:  5  min_df:  1  score: 91.83\n",
      "alpha:  5  min_df:  0.1  score: 83.31\n",
      "alpha:  5  min_df:  0.01  score: 90.135\n",
      "alpha:  5  min_df:  0.001  score: 91.88499999999999\n",
      "alpha:  5  min_df:  0.0001  score: 91.845\n",
      "alpha:  10  min_df:  1  score: 91.245\n",
      "alpha:  10  min_df:  0.1  score: 83.11500000000001\n",
      "alpha:  10  min_df:  0.01  score: 90.02000000000001\n",
      "alpha:  10  min_df:  0.001  score: 91.575\n",
      "alpha:  10  min_df:  0.0001  score: 91.235\n",
      "alpha:  50  min_df:  1  score: 86.18\n",
      "alpha:  50  min_df:  0.1  score: 82.71000000000001\n",
      "alpha:  50  min_df:  0.01  score: 88.86499999999998\n",
      "alpha:  50  min_df:  0.001  score: 90.43500000000002\n",
      "alpha:  50  min_df:  0.0001  score: 86.20500000000003\n",
      "Best score: 91.98\n",
      "Best alpha: 1\n",
      "Best min_df: 0.0001\n"
     ]
    }
   ],
   "source": [
    "# Find the best parameters through hyperparameter tuning\n",
    "\n",
    "# Initialize the best parameters\n",
    "best_alpha = None\n",
    "best_min_df= None\n",
    "maxscore=-np.inf\n",
    "\n",
    "alphas = [0.01, .1, 1, 5, 10, 50]\n",
    "min_dfs=[1, 0.1, 0.01, 0.001, 0.0001]\n",
    "\n",
    "#Find the best value for alpha and min_df, and the best classifier\n",
    "\n",
    "for alpha in alphas:\n",
    "    for min_df in min_dfs:\n",
    "        score = score_cross_validation(alpha,min_df)\n",
    "        if score > maxscore:\n",
    "            maxscore = score\n",
    "            best_alpha = alpha\n",
    "            best_min_df = min_df\n",
    "        print('alpha: ', alpha, ' min_df: ', min_df, ' score:', score)\n",
    "print(\"Best score: {}\".format(maxscore))\n",
    "print(\"Best alpha: {}\".format(best_alpha))\n",
    "print(\"Best min_df: {}\".format(best_min_df))"
   ]
  },
  {
   "cell_type": "code",
   "execution_count": 28,
   "metadata": {},
   "outputs": [
    {
     "name": "stdout",
     "output_type": "stream",
     "text": [
      "\n",
      "Model Accuracy: 90.77%\n",
      "\n",
      "F1 score : 94.00%\n",
      "\n",
      "Confusion Matrix: \n",
      " [[ 552  173]\n",
      " [ 104 2171]]\n"
     ]
    }
   ],
   "source": [
    "# Build the base model using the best hyper-parameters\n",
    "\n",
    "best_min_df = 0.001\n",
    "best_alpha = 1\n",
    "\n",
    "sm = SMOTE(random_state=42)\n",
    "\n",
    "\n",
    "X_train_full = training_reviews.text\n",
    "y_train_full = training_reviews.rating\n",
    "X_test_full = test_reviews.text\n",
    "y_test_full = test_reviews.rating\n",
    "\n",
    "vectorizer = CountVectorizer(min_df = best_min_df)\n",
    "nb_classifier = MultinomialNB(alpha = best_alpha)\n",
    "\n",
    "# Fit vectorizer and transform X train, then transform X test\n",
    "X_train_full_vect = vectorizer.fit_transform(X_train_full)\n",
    "X_test_full_vect = vectorizer.transform(X_test_full)\n",
    "\n",
    "# Oversample\n",
    "X_train_full_res, y_train_full_res = sm.fit_sample(X_train_full_vect, y_train_full)\n",
    "\n",
    "# Fit Naive Bayes on the vectorized X with y train labels, \n",
    "# then predict new y labels using X test\n",
    "nb_classifier.fit(X_train_full_res, y_train_full_res)\n",
    "y_pred_full = nb_classifier.predict(X_test_full_vect)\n",
    "\n",
    "# Determine test set accuracy and f1 score on this fold using the true y labels and predicted y labels\n",
    "print(\"\\nModel Accuracy: {:.2f}%\".format(accuracy_score(y_test_full, y_pred_full) * 100))\n",
    "print(\"\\nF1 score : {:.2f}%\".format(f1_score(y_test_full, y_pred_full) * 100))\n",
    "print(\"\\nConfusion Matrix: \\n {}\".format(confusion_matrix(y_test_full, y_pred_full)))"
   ]
  },
  {
   "cell_type": "markdown",
   "metadata": {},
   "source": [
    "# Strong Predictive Features\n",
    "Next,  Lets look at a few strongly predictive features available in positive reviews and negative reviews respectively."
   ]
  },
  {
   "cell_type": "code",
   "execution_count": 42,
   "metadata": {},
   "outputs": [],
   "source": [
    "# Strong Predictive Features\n",
    "words = np.array(vectorizer.get_feature_names())\n",
    "x = np.eye(X_train_full_res.shape[1])\n",
    "probs = nb_classifier.predict_log_proba(x)[:, 0]\n",
    "ind = np.argsort(probs)"
   ]
  },
  {
   "cell_type": "code",
   "execution_count": 48,
   "metadata": {
    "scrolled": true
   },
   "outputs": [],
   "source": [
    "# Good Words and Bad Words with their probabilities\n",
    "good_words = words[ind[:20]]\n",
    "good_prob = probs[ind[:20]]\n",
    "\n",
    "bad_words = words[ind[-20:]][::-1]\n",
    "bad_prob = probs[ind[-20:]][::-1]"
   ]
  },
  {
   "cell_type": "code",
   "execution_count": 50,
   "metadata": {
    "scrolled": true
   },
   "outputs": [
    {
     "name": "stdout",
     "output_type": "stream",
     "text": [
      "Good words\t     P(Positive | word)\n",
      "                 gem 0.98\n",
      "              heaven 0.98\n",
      "               donut 0.98\n",
      "                feta 0.98\n",
      "              delish 0.98\n",
      "          phenomenal 0.97\n",
      "          refreshing 0.97\n",
      "                 art 0.97\n",
      "          disappoint 0.97\n",
      "            pleasure 0.97\n",
      "          pleasantly 0.97\n",
      "             nutella 0.96\n",
      "                vous 0.96\n",
      "              divine 0.96\n",
      "               était 0.96\n",
      "           fountains 0.96\n",
      "                 lon 0.96\n",
      "       knowledgeable 0.96\n",
      "          watermelon 0.96\n",
      "          affordable 0.96\n"
     ]
    }
   ],
   "source": [
    "# List of top 20 words predicting Negative Reviews\n",
    "print(\"Good words\\t     P(Positive | word)\")\n",
    "for w, p in zip(good_words, good_prob):\n",
    "    print(\"{:>20}\".format(w), \"{:.2f}\".format(1 - np.exp(p)))"
   ]
  },
  {
   "cell_type": "code",
   "execution_count": 51,
   "metadata": {
    "scrolled": true
   },
   "outputs": [
    {
     "name": "stdout",
     "output_type": "stream",
     "text": [
      "Bad words\t     P(Positive | word)\n",
      "      unprofessional 0.02\n",
      "            downhill 0.03\n",
      "           tasteless 0.03\n",
      "            horrible 0.04\n",
      "              filthy 0.04\n",
      "               worse 0.05\n",
      "          unfriendly 0.05\n",
      "              rudely 0.05\n",
      "               awful 0.05\n",
      "           miserable 0.05\n",
      "               worst 0.05\n",
      "          disgusting 0.05\n",
      "              refund 0.05\n",
      "        unacceptable 0.06\n",
      "            terrible 0.07\n",
      "           poisoning 0.07\n",
      "         incompetent 0.07\n",
      "               lousy 0.07\n",
      "               stale 0.07\n",
      "                rude 0.08\n"
     ]
    }
   ],
   "source": [
    "# List of top 20 words predicting Negative (Not Positive) Reviews\n",
    "print(\"Bad words\\t     P(Positive | word)\")\n",
    "for w, p in zip(bad_words, bad_prob):\n",
    "    print(\"{:>20}\".format(w), \"{:.2f}\".format(1 - np.exp(p)))"
   ]
  },
  {
   "cell_type": "markdown",
   "metadata": {},
   "source": [
    "# Prediction Error"
   ]
  },
  {
   "cell_type": "code",
   "execution_count": 85,
   "metadata": {},
   "outputs": [],
   "source": [
    "test_reviews['cv_nb_pred']=y_pred_full"
   ]
  },
  {
   "cell_type": "code",
   "execution_count": 98,
   "metadata": {},
   "outputs": [
    {
     "name": "stdout",
     "output_type": "stream",
     "text": [
      "------------------------------------------------------------\n",
      "Actually Positive Reviews, Predicted as Nagative Reviews\n",
      "------------------------------------------------------------\n",
      "66    Really good food, but beware the portions are huge!!!  Was full off of the truffle fries alone with brisket and French dip to follow, didn't even finish half of the later 2 and ended up having to throw away leftovers due to hotel not having a refrigerator...only complaint was the long wait almost an hour just to find out they hadn't put our name down on the list or failed to call us when we were waiting right outside the entrance, luckily they got us a table immediately upon discovering the ...\n",
      "82    This review is based entirely on a stuffed Chicago-style pizza that we got to go.  \\n\\nIt was DELICIOUS.  I can honestly say I can't wait to order it again.\\n\\nWhen we called, we were given a time an hour and a half later to come pick it up.  This is not the place to go if you are in a hurry.  I'm pretty into the whole Slow Food thing, so I don't mind waiting.  I know that good food takes time.  Hell, Chicago-style pizza should take at least 45 minutes, if it's done right.  If you know it's ...\n",
      "Name: text, dtype: object\n"
     ]
    }
   ],
   "source": [
    "print('------------------------------------------------------------')\n",
    "print(\"Actually Positive Reviews, Predicted as Nagative Reviews\")\n",
    "print('------------------------------------------------------------')\n",
    "print(test_reviews[(test_reviews.rating == 1) & (test_reviews.cv_nb_pred == 0)]['text'].head(2))"
   ]
  },
  {
   "cell_type": "code",
   "execution_count": 99,
   "metadata": {},
   "outputs": [
    {
     "name": "stdout",
     "output_type": "stream",
     "text": [
      "------------------------------------------------------------\n",
      "Actually Nagative Reviews, Predicted as Positive Reviews\n",
      "------------------------------------------------------------\n",
      "10    I have my own Nonna so when I found out that this place was run by old-school Italians I was overjoyed.  My experience with them, after many visits, is that despite their kind demeanour the food is nothing like home cooking.  The sauce is so heavy on the oregano and tinned tomato concentrate and it tastes as if they add sugar to reduce the acidity - very mangiacake. Because the sauce is so poor, their sandwiches taste like the ones you get Pizza Pizza.  Their chicken parmigianna is cafeteria...\n",
      "51                                                                                                                                                                                                                                                                                                                                    I got ramen noodle yesterday for lunch, but noodle became brown and got moldy.\\nI like Japanese snack but they don't carry enough anymore. Only 1good thing they open till 11:00pm.\n",
      "Name: text, dtype: object\n"
     ]
    }
   ],
   "source": [
    "print('------------------------------------------------------------')\n",
    "print(\"Actually Nagative Reviews, Predicted as Positive Reviews\")\n",
    "print('------------------------------------------------------------')\n",
    "print(test_reviews[(test_reviews.rating == 0) & (test_reviews.cv_nb_pred == 1)]['text'].head(2))"
   ]
  },
  {
   "cell_type": "code",
   "execution_count": 97,
   "metadata": {},
   "outputs": [],
   "source": [
    "# # ROC Curve\n",
    "# import scikitplot as skplt\n",
    "# import matplotlib.pyplot as plt\n",
    "\n",
    "# skplt.metrics.plot_roc(y_test_full, nb_classifier.predict_proba(X_test_full_vect), classes_to_plot =0, plot_micro=False, plot_macro=False)\n",
    "# plt.show()"
   ]
  },
  {
   "cell_type": "markdown",
   "metadata": {},
   "source": [
    "# TF-IDF Vectorizer\n",
    "Then, We try a TD-IDF vectorizer"
   ]
  },
  {
   "cell_type": "code",
   "execution_count": 75,
   "metadata": {},
   "outputs": [],
   "source": [
    "import nltk\n",
    "from nltk.stem import WordNetLemmatizer\n",
    "wordnet_lemmatizer = WordNetLemmatizer()\n",
    "from sklearn.feature_extraction.text import TfidfVectorizer"
   ]
  },
  {
   "cell_type": "code",
   "execution_count": 66,
   "metadata": {},
   "outputs": [],
   "source": [
    "## Lemmatize Data\n",
    "def lemmatize_set(doc_set):\n",
    "    \"\"\"\n",
    "    Input  : docuemnt list\n",
    "    Purpose: preprocess text (tokenize, removing stopwords, and stemming)\n",
    "    Output : preprocessed text\n",
    "    \"\"\"\n",
    "    # initialize regex tokenizer\n",
    "    tokenizer = RegexpTokenizer(r'\\w+')\n",
    "    # create English stop words list\n",
    "    en_stop = set(stopwords.words('english'))\n",
    "    # Create p_stemmer of class PorterStemmer\n",
    "    # p_stemmer = PorterStemmer()\n",
    "    # list for tokenized documents in loop\n",
    "    texts = []\n",
    "    # loop through document list\n",
    "    for i in doc_set:\n",
    "        # clean and tokenize document string\n",
    "        raw = i.lower()\n",
    "        tokens = tokenizer.tokenize(raw)\n",
    "        # remove stop words from tokens\n",
    "        stopped_tokens = [i for i in tokens if not i in en_stop]\n",
    "        # stem tokens\n",
    "        lemmatized_tokens = [wordnet_lemmatizer.lemmatize(i, pos=\"v\") for i in stopped_tokens]\n",
    "        # add tokens to list\n",
    "        texts.append(' '.join(lemmatized_tokens))\n",
    "    return texts"
   ]
  },
  {
   "cell_type": "code",
   "execution_count": 67,
   "metadata": {},
   "outputs": [],
   "source": [
    "training_reviews['lemmatized_text']=lemmatize_set(training_reviews.text)"
   ]
  },
  {
   "cell_type": "code",
   "execution_count": 79,
   "metadata": {},
   "outputs": [],
   "source": [
    "test_reviews['lemmatized_text']=lemmatize_set(test_reviews.text)"
   ]
  },
  {
   "cell_type": "markdown",
   "metadata": {},
   "source": [
    "## Demonstration of Reviews and corresponding Lemmatized Reviews"
   ]
  },
  {
   "cell_type": "code",
   "execution_count": 73,
   "metadata": {},
   "outputs": [
    {
     "data": {
      "text/plain": [
       "\"Went in for a lunch. Steak sandwich was delicious, and the Caesar salad had an absolutely delicious dressing, with a perfect amount of dressing, and distributed perfectly across each leaf. I know I'm going on about the salad ... But it was perfect.\\n\\nDrink prices were pretty good.\\n\\nThe Server, Dawn, was friendly and accommodating. Very happy with her.\\n\\nIn summation, a great pub experience. Would go again!\""
      ]
     },
     "execution_count": 73,
     "metadata": {},
     "output_type": "execute_result"
    }
   ],
   "source": [
    "training_reviews.text[0]"
   ]
  },
  {
   "cell_type": "code",
   "execution_count": 74,
   "metadata": {},
   "outputs": [
    {
     "data": {
      "text/plain": [
       "'go lunch steak sandwich delicious caesar salad absolutely delicious dress perfect amount dress distribute perfectly across leaf know go salad perfect drink price pretty good server dawn friendly accommodate happy summation great pub experience would go'"
      ]
     },
     "execution_count": 74,
     "metadata": {},
     "output_type": "execute_result"
    }
   ],
   "source": [
    "training_reviews.lemmatized_text[0]"
   ]
  },
  {
   "cell_type": "code",
   "execution_count": 76,
   "metadata": {},
   "outputs": [],
   "source": [
    "X = training_reviews.lemmatized_text\n",
    "y = training_reviews.rating"
   ]
  },
  {
   "cell_type": "code",
   "execution_count": 77,
   "metadata": {},
   "outputs": [],
   "source": [
    "def score_tfidf_cross_validation(alpha, min_df):\n",
    "\n",
    "    ss = ShuffleSplit(n_splits=10, test_size=0.2, random_state=42)\n",
    "    sm = SMOTE(random_state=42)\n",
    "\n",
    "    accs = []\n",
    "    #f1s = []\n",
    "    #cms = []\n",
    "\n",
    "    tfidfvectorizer = TfidfVectorizer(min_df = min_df, stop_words='english')\n",
    "    nb_classifier = MultinomialNB(alpha = alpha)\n",
    "\n",
    "    for train_index, test_index in ss.split(X):\n",
    "\n",
    "        X_train, X_test = X.iloc[train_index], X.iloc[test_index]\n",
    "        y_train, y_test = y.iloc[train_index], y.iloc[test_index]\n",
    "\n",
    "        # Fit vectorizer and transform X train, then transform X test\n",
    "        X_train_vect = tfidfvectorizer.fit_transform(X_train)\n",
    "        X_test_vect = tfidfvectorizer.transform(X_test)\n",
    "\n",
    "        # Oversample\n",
    "        X_train_res, y_train_res = sm.fit_sample(X_train_vect, y_train)\n",
    "\n",
    "        # Fit Naive Bayes on the vectorized X with y train labels, \n",
    "        # then predict new y labels using X test\n",
    "        nb_classifier.fit(X_train_res, y_train_res)\n",
    "        y_pred = nb_classifier.predict(X_test_vect)\n",
    "\n",
    "        # Determine test set accuracy and f1 score on this fold using the true y labels and predicted y labels\n",
    "        accs.append(accuracy_score(y_test, y_pred))\n",
    "        #f1s.append(f1_score(y_test, y_pred))\n",
    "        #cms.append(confusion_matrix(y_test, y_pred))\n",
    "    return sum(accs) / len(accs) * 100.0\n",
    "    #print(\"\\nAverage accuracy across folds: {:.2f}%\".format(sum(accs) / len(accs) * 100))\n",
    "    #print(\"\\nAverage F1 score across folds: {:.2f}%\".format(sum(f1s) / len(f1s) * 100))\n",
    "    #print(\"\\nAverage Confusion Matrix across folds: \\n {}\".format(sum(cms) / len(cms)))"
   ]
  },
  {
   "cell_type": "code",
   "execution_count": 78,
   "metadata": {},
   "outputs": [
    {
     "name": "stdout",
     "output_type": "stream",
     "text": [
      "alpha:  0.01  min_df:  1  score: 89.47999999999998\n",
      "alpha:  0.01  min_df:  0.1  score: 77.625\n",
      "alpha:  0.01  min_df:  0.01  score: 89.075\n",
      "alpha:  0.01  min_df:  0.001  score: 90.99000000000001\n",
      "alpha:  0.01  min_df:  0.0001  score: 89.50999999999999\n",
      "alpha:  0.1  min_df:  1  score: 90.64\n",
      "alpha:  0.1  min_df:  0.1  score: 77.57\n",
      "alpha:  0.1  min_df:  0.01  score: 89.07000000000001\n",
      "alpha:  0.1  min_df:  0.001  score: 90.995\n",
      "alpha:  0.1  min_df:  0.0001  score: 90.72000000000001\n",
      "alpha:  1  min_df:  1  score: 90.78500000000001\n",
      "alpha:  1  min_df:  0.1  score: 77.485\n",
      "alpha:  1  min_df:  0.01  score: 89.03999999999999\n",
      "alpha:  1  min_df:  0.001  score: 91.14999999999999\n",
      "alpha:  1  min_df:  0.0001  score: 90.85000000000001\n",
      "alpha:  5  min_df:  1  score: 88.78\n",
      "alpha:  5  min_df:  0.1  score: 77.35499999999999\n",
      "alpha:  5  min_df:  0.01  score: 88.96\n",
      "alpha:  5  min_df:  0.001  score: 90.23999999999998\n",
      "alpha:  5  min_df:  0.0001  score: 88.79999999999998\n",
      "alpha:  10  min_df:  1  score: 87.66499999999999\n",
      "alpha:  10  min_df:  0.1  score: 77.3\n",
      "alpha:  10  min_df:  0.01  score: 88.895\n",
      "alpha:  10  min_df:  0.001  score: 89.605\n",
      "alpha:  10  min_df:  0.0001  score: 87.615\n",
      "alpha:  50  min_df:  1  score: 84.73\n",
      "alpha:  50  min_df:  0.1  score: 76.31\n",
      "alpha:  50  min_df:  0.01  score: 88.125\n",
      "alpha:  50  min_df:  0.001  score: 87.565\n",
      "alpha:  50  min_df:  0.0001  score: 84.71499999999999\n",
      "Best score: 91.14999999999999\n",
      "Best alpha: 1\n",
      "Best min_df: 0.001\n"
     ]
    }
   ],
   "source": [
    "# Find the best parameters through hyperparameter tuning\n",
    "\n",
    "# Initialize the best parameters\n",
    "best_alpha = None\n",
    "best_min_df= None\n",
    "maxscore=-np.inf\n",
    "\n",
    "alphas = [0.01, .1, 1, 5, 10, 50]\n",
    "min_dfs=[1, 0.1, 0.01, 0.001, 0.0001]\n",
    "\n",
    "#Find the best value for alpha and min_df, and the best classifier\n",
    "\n",
    "for alpha in alphas:\n",
    "    for min_df in min_dfs:\n",
    "        score = score_tfidf_cross_validation(alpha,min_df)\n",
    "        if score > maxscore:\n",
    "            maxscore = score\n",
    "            best_alpha = alpha\n",
    "            best_min_df = min_df\n",
    "        print('alpha: ', alpha, ' min_df: ', min_df, ' score:', score)\n",
    "print(\"Best score: {}\".format(maxscore))\n",
    "print(\"Best alpha: {}\".format(best_alpha))\n",
    "print(\"Best min_df: {}\".format(best_min_df))"
   ]
  },
  {
   "cell_type": "code",
   "execution_count": 80,
   "metadata": {},
   "outputs": [
    {
     "name": "stdout",
     "output_type": "stream",
     "text": [
      "\n",
      "Model Accuracy: 90.27%\n",
      "\n",
      "F1 score : 93.44%\n",
      "\n",
      "Confusion Matrix: \n",
      " [[ 628   97]\n",
      " [ 195 2080]]\n"
     ]
    }
   ],
   "source": [
    "# Build the base model using the best hyper-parameters\n",
    "\n",
    "best_min_df = 0.001\n",
    "best_alpha = 1\n",
    "\n",
    "sm = SMOTE(random_state=42)\n",
    "\n",
    "\n",
    "X_train_full = training_reviews.lemmatized_text\n",
    "y_train_full = training_reviews.rating\n",
    "X_test_full = test_reviews.lemmatized_text\n",
    "y_test_full = test_reviews.rating\n",
    "\n",
    "tfidfvectorizer = TfidfVectorizer(min_df = best_min_df, stop_words='english', ngram_range=(1, 3))\n",
    "nb_classifier = MultinomialNB(alpha = best_alpha)\n",
    "\n",
    "# Fit vectorizer and transform X train, then transform X test\n",
    "X_train_full_vect = tfidfvectorizer.fit_transform(X_train_full)\n",
    "X_test_full_vect = tfidfvectorizer.transform(X_test_full)\n",
    "\n",
    "# Oversample\n",
    "X_train_full_res, y_train_full_res = sm.fit_sample(X_train_full_vect, y_train_full)\n",
    "\n",
    "# Fit Naive Bayes on the vectorized X with y train labels, \n",
    "# then predict new y labels using X test\n",
    "nb_classifier.fit(X_train_full_res, y_train_full_res)\n",
    "y_pred_full = nb_classifier.predict(X_test_full_vect)\n",
    "\n",
    "# Determine test set accuracy and f1 score on this fold using the true y labels and predicted y labels\n",
    "print(\"\\nModel Accuracy: {:.2f}%\".format(accuracy_score(y_test_full, y_pred_full) * 100))\n",
    "print(\"\\nF1 score : {:.2f}%\".format(f1_score(y_test_full, y_pred_full) * 100))\n",
    "print(\"\\nConfusion Matrix: \\n {}\".format(confusion_matrix(y_test_full, y_pred_full)))"
   ]
  },
  {
   "cell_type": "markdown",
   "metadata": {},
   "source": [
    "# Strong Predictive Features"
   ]
  },
  {
   "cell_type": "code",
   "execution_count": 81,
   "metadata": {},
   "outputs": [],
   "source": [
    "# Strong Predictive Features\n",
    "words = np.array(tfidfvectorizer.get_feature_names())\n",
    "x = np.eye(X_train_full_res.shape[1])\n",
    "probs = nb_classifier.predict_log_proba(x)[:, 0]\n",
    "ind = np.argsort(probs)"
   ]
  },
  {
   "cell_type": "code",
   "execution_count": 82,
   "metadata": {},
   "outputs": [],
   "source": [
    "# Good Words and Bad Words with their probabilities\n",
    "good_words = words[ind[:20]]\n",
    "good_prob = probs[ind[:20]]\n",
    "\n",
    "bad_words = words[ind[-20:]][::-1]\n",
    "bad_prob = probs[ind[-20:]][::-1]"
   ]
  },
  {
   "cell_type": "code",
   "execution_count": 83,
   "metadata": {},
   "outputs": [
    {
     "name": "stdout",
     "output_type": "stream",
     "text": [
      "Good words\t     P(Positive | word)\n",
      "    highly recommend 0.96\n",
      "                 gem 0.95\n",
      "              delish 0.94\n",
      "          phenomenal 0.94\n",
      "      friendly staff 0.93\n",
      "    great food great 0.93\n",
      "           delicious 0.92\n",
      "           perfectly 0.92\n",
      "            hit spot 0.92\n",
      "             refresh 0.92\n",
      "         great price 0.92\n",
      "          amaze food 0.92\n",
      "         staff super 0.92\n",
      "           fantastic 0.91\n",
      "              heaven 0.91\n",
      " great service great 0.91\n",
      "          affordable 0.91\n",
      "     fresh delicious 0.91\n",
      "           wonderful 0.91\n",
      "         place amaze 0.91\n"
     ]
    }
   ],
   "source": [
    "# List of top 20 words predicting Negative Reviews\n",
    "print(\"Good words\\t     P(Positive | word)\")\n",
    "for w, p in zip(good_words, good_prob):\n",
    "    print(\"{:>20}\".format(w), \"{:.2f}\".format(1 - np.exp(p)))"
   ]
  },
  {
   "cell_type": "code",
   "execution_count": 84,
   "metadata": {},
   "outputs": [
    {
     "name": "stdout",
     "output_type": "stream",
     "text": [
      "Bad words\t     P(Positive | word)\n",
      "            horrible 0.03\n",
      "           tasteless 0.03\n",
      "               awful 0.03\n",
      "             disgust 0.04\n",
      "               worst 0.04\n",
      "         avoid place 0.04\n",
      "               worse 0.04\n",
      "    horrible service 0.05\n",
      "       worst service 0.05\n",
      "                poor 0.05\n",
      "               roach 0.05\n",
      "                rude 0.05\n",
      "            terrible 0.05\n",
      "    service horrible 0.06\n",
      "         waste money 0.06\n",
      "      unprofessional 0.06\n",
      "          waste time 0.06\n",
      "              ignore 0.06\n",
      "       food mediocre 0.06\n",
      "       service awful 0.07\n"
     ]
    }
   ],
   "source": [
    "# List of top 20 words predicting Negative (Not Positive) Reviews\n",
    "print(\"Bad words\\t     P(Positive | word)\")\n",
    "for w, p in zip(bad_words, bad_prob):\n",
    "    print(\"{:>20}\".format(w), \"{:.2f}\".format(1 - np.exp(p)))"
   ]
  },
  {
   "cell_type": "code",
   "execution_count": null,
   "metadata": {},
   "outputs": [],
   "source": [
    "# Prediction Error"
   ]
  },
  {
   "cell_type": "code",
   "execution_count": null,
   "metadata": {},
   "outputs": [],
   "source": [
    "test_reviews['tfidf_nb_pred']=y_pred_full"
   ]
  },
  {
   "cell_type": "code",
   "execution_count": 86,
   "metadata": {},
   "outputs": [
    {
     "name": "stdout",
     "output_type": "stream",
     "text": [
      "------------------------------------------------------------\n",
      "Actually Positive Reviews, Predicted as Nagative Reviews\n",
      "------------------------------------------------------------\n",
      "29                                                                                                                                                                                                     Dank as hell \\n\\nI'd smoke all the employees out with one huge joint the size of my head to show them how much I appreciate the food\n",
      "34    This place had problems originally but they changed management and operation. The food here is better then the last and it LA quality food now you have to try it. Also the new management is very nice and if your a repeat customer they will give you free stuff like dumplings and egg roll. Huge improvement will go back again.\n",
      "Name: text, dtype: object\n"
     ]
    }
   ],
   "source": [
    "print('------------------------------------------------------------')\n",
    "print(\"Actually Positive Reviews, Predicted as Nagative Reviews\")\n",
    "print('------------------------------------------------------------')\n",
    "print(test_reviews[(test_reviews.rating == 1) & (test_reviews.cv_nb_pred == 0)]['text'].head(2))"
   ]
  },
  {
   "cell_type": "code",
   "execution_count": 87,
   "metadata": {},
   "outputs": [
    {
     "name": "stdout",
     "output_type": "stream",
     "text": [
      "------------------------------------------------------------\n",
      "Actually Nagative Reviews, Predicted as Positive Reviews\n",
      "------------------------------------------------------------\n",
      "24    I ordered the Red Velvet pancakes, but they were undercooked and tasted horrible after 3 bites I gave up. My Dad ordered the Chocolate french toast which was 1big slice of brioche bread which was very dry in the center. The only good thing we ordered was the Banana Split for 2. Service was great but then again the place was pretty empty in the afternoon. Booths are comfortable, bar stools look very uncomfortable and no way would I sit at the tables some of which are uneven. I would go back o...\n",
      "26                                             I was excited to have dinner at the hotel since it's a little off the beaten path and there is a fantastic view out of the dining room. The hostess and server were both very curt. They got the job done, but we all suffered. They brought me a thimble full of wine. I ordered the apple and Brie quesadilla, which sounded great but was executed very poorly. I have to believe it was just a bad night and the wrong thing to order. The hotel and staff were great.\n",
      "Name: text, dtype: object\n"
     ]
    }
   ],
   "source": [
    "print('------------------------------------------------------------')\n",
    "print(\"Actually Nagative Reviews, Predicted as Positive Reviews\")\n",
    "print('------------------------------------------------------------')\n",
    "print(test_reviews[(test_reviews.rating == 0) & (test_reviews.tfidf_nb_pred == 1)]['text'].head(2))"
   ]
  },
  {
   "cell_type": "markdown",
   "metadata": {},
   "source": [
    "## Classifier using TF-IDF and Logistics Regression"
   ]
  },
  {
   "cell_type": "code",
   "execution_count": 104,
   "metadata": {},
   "outputs": [],
   "source": [
    "from sklearn.linear_model import LogisticRegression"
   ]
  },
  {
   "cell_type": "code",
   "execution_count": 101,
   "metadata": {},
   "outputs": [],
   "source": [
    "def score_tfidf_cv_log_reg(c):\n",
    "\n",
    "    ss = ShuffleSplit(n_splits=10, test_size=0.2, random_state=42)\n",
    "    sm = SMOTE(random_state=42)\n",
    "\n",
    "    accs = []\n",
    "    #f1s = []\n",
    "    #cms = []\n",
    "\n",
    "    tfidfvectorizer = TfidfVectorizer(min_df = min_df, stop_words='english')\n",
    "    lr_classifier = LogisticRegression(penalty = 'l2', C = c, random_state=0)\n",
    "\n",
    "    for train_index, test_index in ss.split(X):\n",
    "\n",
    "        X_train, X_test = X.iloc[train_index], X.iloc[test_index]\n",
    "        y_train, y_test = y.iloc[train_index], y.iloc[test_index]\n",
    "\n",
    "        # Fit vectorizer and transform X train, then transform X test\n",
    "        X_train_vect = tfidfvectorizer.fit_transform(X_train)\n",
    "        X_test_vect = tfidfvectorizer.transform(X_test)\n",
    "\n",
    "        # Oversample\n",
    "        X_train_res, y_train_res = sm.fit_sample(X_train_vect, y_train)\n",
    "\n",
    "        # Fit Naive Bayes on the vectorized X with y train labels, \n",
    "        # then predict new y labels using X test\n",
    "        lr_classifier.fit(X_train_res, y_train_res)\n",
    "        y_pred = lr_classifier.predict(X_test_vect)\n",
    "\n",
    "        # Determine test set accuracy and f1 score on this fold using the true y labels and predicted y labels\n",
    "        accs.append(accuracy_score(y_test, y_pred))\n",
    "        #f1s.append(f1_score(y_test, y_pred))\n",
    "        #cms.append(confusion_matrix(y_test, y_pred))\n",
    "    return sum(accs) / len(accs) * 100.0\n",
    "    #print(\"\\nAverage accuracy across folds: {:.2f}%\".format(sum(accs) / len(accs) * 100))\n",
    "    #print(\"\\nAverage F1 score across folds: {:.2f}%\".format(sum(f1s) / len(f1s) * 100))\n",
    "    #print(\"\\nAverage Confusion Matrix across folds: \\n {}\".format(sum(cms) / len(cms)))"
   ]
  },
  {
   "cell_type": "code",
   "execution_count": 102,
   "metadata": {},
   "outputs": [
    {
     "name": "stderr",
     "output_type": "stream",
     "text": [
      "C:\\Users\\Mishraji\\Miniconda3\\envs\\py3\\lib\\site-packages\\sklearn\\linear_model\\logistic.py:433: FutureWarning: Default solver will be changed to 'lbfgs' in 0.22. Specify a solver to silence this warning.\n",
      "  FutureWarning)\n"
     ]
    },
    {
     "name": "stdout",
     "output_type": "stream",
     "text": [
      "c:  0.001  score: 87.53\n",
      "c:  0.01  score: 88.75500000000001\n",
      "c:  0.1  score: 90.99000000000001\n",
      "c:  1  score: 92.785\n",
      "c:  10  score: 93.16000000000001\n",
      "c:  100  score: 92.76499999999999\n",
      "Best score: 93.16000000000001\n",
      "Best c: 100\n"
     ]
    }
   ],
   "source": [
    "# Find the best parameters through hyperparameter tuning\n",
    "\n",
    "# Initialize the best parameters\n",
    "best_c = None\n",
    "maxscore=-np.inf\n",
    "\n",
    "c_values = [0.001,0.01,0.1,1,10,100]\n",
    "\n",
    "#Find the best value for alpha and min_df, and the best classifier\n",
    "\n",
    "for c in c_values:\n",
    "    score = score_tfidf_cv_log_reg(c)\n",
    "    if score > maxscore:\n",
    "        maxscore = score\n",
    "        best_c = c\n",
    "    print('c: ', c, ' score:', score)\n",
    "print(\"Best score: {}\".format(maxscore))\n",
    "print(\"Best c: {}\".format(c))"
   ]
  },
  {
   "cell_type": "code",
   "execution_count": 103,
   "metadata": {},
   "outputs": [
    {
     "name": "stdout",
     "output_type": "stream",
     "text": [
      "\n",
      "Model Accuracy: 92.23%\n",
      "\n",
      "F1 score : 94.87%\n",
      "\n",
      "Confusion Matrix: \n",
      " [[ 613  112]\n",
      " [ 121 2154]]\n"
     ]
    }
   ],
   "source": [
    "# Build the base model using the best hyper-parameters\n",
    "\n",
    "best_c = 10\n",
    "\n",
    "sm = SMOTE(random_state=42)\n",
    "\n",
    "\n",
    "X_train_full = training_reviews.lemmatized_text\n",
    "y_train_full = training_reviews.rating\n",
    "X_test_full = test_reviews.lemmatized_text\n",
    "y_test_full = test_reviews.rating\n",
    "\n",
    "tfidfvectorizer = TfidfVectorizer(min_df = best_min_df, stop_words='english', ngram_range=(1, 3))\n",
    "lr_classifier = LogisticRegression(penalty = 'l2', C = best_c, random_state=0)\n",
    "\n",
    "# Fit vectorizer and transform X train, then transform X test\n",
    "X_train_full_vect = tfidfvectorizer.fit_transform(X_train_full)\n",
    "X_test_full_vect = tfidfvectorizer.transform(X_test_full)\n",
    "\n",
    "# Oversample\n",
    "X_train_full_res, y_train_full_res = sm.fit_sample(X_train_full_vect, y_train_full)\n",
    "\n",
    "# Fit Naive Bayes on the vectorized X with y train labels, \n",
    "# then predict new y labels using X test\n",
    "lr_classifier.fit(X_train_full_res, y_train_full_res)\n",
    "y_pred_full = lr_classifier.predict(X_test_full_vect)\n",
    "\n",
    "# Determine test set accuracy and f1 score on this fold using the true y labels and predicted y labels\n",
    "print(\"\\nModel Accuracy: {:.2f}%\".format(accuracy_score(y_test_full, y_pred_full) * 100))\n",
    "print(\"\\nF1 score : {:.2f}%\".format(f1_score(y_test_full, y_pred_full) * 100))\n",
    "print(\"\\nConfusion Matrix: \\n {}\".format(confusion_matrix(y_test_full, y_pred_full)))"
   ]
  },
  {
   "cell_type": "code",
   "execution_count": null,
   "metadata": {},
   "outputs": [],
   "source": []
  },
  {
   "cell_type": "code",
   "execution_count": null,
   "metadata": {},
   "outputs": [],
   "source": []
  },
  {
   "cell_type": "code",
   "execution_count": null,
   "metadata": {},
   "outputs": [],
   "source": []
  },
  {
   "cell_type": "markdown",
   "metadata": {},
   "source": [
    "## Classifier using TF-IDF and Random Forest"
   ]
  },
  {
   "cell_type": "code",
   "execution_count": 105,
   "metadata": {},
   "outputs": [],
   "source": [
    "from sklearn.ensemble import RandomForestClassifier"
   ]
  },
  {
   "cell_type": "code",
   "execution_count": 115,
   "metadata": {
    "scrolled": true
   },
   "outputs": [],
   "source": [
    "def score_tfidf_cv_rf(m_depth, n_estimators):\n",
    "\n",
    "    ss = ShuffleSplit(n_splits=10, test_size=0.2, random_state=42)\n",
    "    sm = SMOTE(random_state=42)\n",
    "\n",
    "    accs = []\n",
    "    #f1s = []\n",
    "    #cms = []\n",
    "\n",
    "    tfidfvectorizer = TfidfVectorizer(min_df = min_df, stop_words='english')\n",
    "    rf_classifier = RandomForestClassifier(max_depth = m_depth, n_estimators= n_estimators, random_state=0)\n",
    "\n",
    "    for train_index, test_index in ss.split(X):\n",
    "\n",
    "        X_train, X_test = X.iloc[train_index], X.iloc[test_index]\n",
    "        y_train, y_test = y.iloc[train_index], y.iloc[test_index]\n",
    "\n",
    "        # Fit vectorizer and transform X train, then transform X test\n",
    "        X_train_vect = tfidfvectorizer.fit_transform(X_train)\n",
    "        X_test_vect = tfidfvectorizer.transform(X_test)\n",
    "\n",
    "        # Oversample\n",
    "        X_train_res, y_train_res = sm.fit_sample(X_train_vect, y_train)\n",
    "\n",
    "        # Fit Naive Bayes on the vectorized X with y train labels, \n",
    "        # then predict new y labels using X test\n",
    "        rf_classifier.fit(X_train_res, y_train_res)\n",
    "        y_pred = rf_classifier.predict(X_test_vect)\n",
    "\n",
    "        # Determine test set accuracy and f1 score on this fold using the true y labels and predicted y labels\n",
    "        accs.append(accuracy_score(y_test, y_pred))\n",
    "        #f1s.append(f1_score(y_test, y_pred))\n",
    "        #cms.append(confusion_matrix(y_test, y_pred))\n",
    "    return sum(accs) / len(accs) * 100.0\n",
    "    #print(\"\\nAverage accuracy across folds: {:.2f}%\".format(sum(accs) / len(accs) * 100))\n",
    "    #print(\"\\nAverage F1 score across folds: {:.2f}%\".format(sum(f1s) / len(f1s) * 100))\n",
    "    #print(\"\\nAverage Confusion Matrix across folds: \\n {}\".format(sum(cms) / len(cms)))"
   ]
  },
  {
   "cell_type": "code",
   "execution_count": 119,
   "metadata": {},
   "outputs": [
    {
     "name": "stdout",
     "output_type": "stream",
     "text": [
      "md:  8 n_estimator:  10  score: 79.90499999999999\n",
      "md:  8 n_estimator:  20  score: 81.79\n",
      "md:  8 n_estimator:  50  score: 82.80999999999999\n",
      "md:  8 n_estimator:  80  score: 83.095\n",
      "md:  8 n_estimator:  100  score: 83.22\n",
      "md:  10 n_estimator:  10  score: 80.94000000000001\n",
      "md:  10 n_estimator:  20  score: 82.39500000000002\n",
      "md:  10 n_estimator:  50  score: 83.355\n",
      "md:  10 n_estimator:  80  score: 83.435\n",
      "md:  10 n_estimator:  100  score: 83.72500000000001\n",
      "Best score: 83.72500000000001\n",
      "Best md: 10\n",
      "Best n_estimator: 100\n"
     ]
    }
   ],
   "source": [
    "# Find the best parameters through hyperparameter tuning\n",
    "\n",
    "# Initialize the best parameters\n",
    "best_md = None\n",
    "best_n_estimator = None\n",
    "maxscore=-np.inf\n",
    "\n",
    "md_values = [8,10]\n",
    "n_estimators = [10,20,50,80, 100]\n",
    "\n",
    "#Find the best value for alpha and min_df, and the best classifier\n",
    "\n",
    "for md in md_values:\n",
    "    for n_estimator in n_estimators:\n",
    "        score = score_tfidf_cv_rf(md,n_estimator)\n",
    "        \n",
    "        if score > maxscore:\n",
    "            maxscore = score\n",
    "            best_md = md\n",
    "            best_n_estimator = n_estimator      \n",
    "        print('md: ', md, 'n_estimator: ', n_estimator,' score:', score)\n",
    "print(\"Best score: {}\".format(maxscore))\n",
    "print(\"Best md: {}\".format(best_md))\n",
    "print(\"Best n_estimator: {}\".format(best_n_estimator))"
   ]
  },
  {
   "cell_type": "code",
   "execution_count": 120,
   "metadata": {},
   "outputs": [
    {
     "name": "stdout",
     "output_type": "stream",
     "text": [
      "\n",
      "Model Accuracy: 83.97%\n",
      "\n",
      "F1 score : 89.76%\n",
      "\n",
      "Confusion Matrix: \n",
      " [[ 410  315]\n",
      " [ 166 2109]]\n"
     ]
    }
   ],
   "source": [
    "# Build the base model using the best hyper-parameters\n",
    "\n",
    "best_md = 10\n",
    "best_n_estimator = 100\n",
    "\n",
    "sm = SMOTE(random_state=42)\n",
    "\n",
    "\n",
    "X_train_full = training_reviews.lemmatized_text\n",
    "y_train_full = training_reviews.rating\n",
    "X_test_full = test_reviews.lemmatized_text\n",
    "y_test_full = test_reviews.rating\n",
    "\n",
    "tfidfvectorizer = TfidfVectorizer(min_df = best_min_df, stop_words='english', ngram_range=(1, 3))\n",
    "rf_classifier = RandomForestClassifier(max_depth = best_md, n_estimators= best_n_estimator, random_state=0)\n",
    "\n",
    "# Fit vectorizer and transform X train, then transform X test\n",
    "X_train_full_vect = tfidfvectorizer.fit_transform(X_train_full)\n",
    "X_test_full_vect = tfidfvectorizer.transform(X_test_full)\n",
    "\n",
    "# Oversample\n",
    "X_train_full_res, y_train_full_res = sm.fit_sample(X_train_full_vect, y_train_full)\n",
    "\n",
    "# Fit Naive Bayes on the vectorized X with y train labels, \n",
    "# then predict new y labels using X test\n",
    "rf_classifier.fit(X_train_full_res, y_train_full_res)\n",
    "y_pred_full = rf_classifier.predict(X_test_full_vect)\n",
    "\n",
    "# Determine test set accuracy and f1 score on this fold using the true y labels and predicted y labels\n",
    "print(\"\\nModel Accuracy: {:.2f}%\".format(accuracy_score(y_test_full, y_pred_full) * 100))\n",
    "print(\"\\nF1 score : {:.2f}%\".format(f1_score(y_test_full, y_pred_full) * 100))\n",
    "print(\"\\nConfusion Matrix: \\n {}\".format(confusion_matrix(y_test_full, y_pred_full)))"
   ]
  },
  {
   "cell_type": "code",
   "execution_count": null,
   "metadata": {},
   "outputs": [],
   "source": []
  },
  {
   "cell_type": "markdown",
   "metadata": {},
   "source": [
    "# Insights Generation from Reviews of one restaurant\n"
   ]
  },
  {
   "cell_type": "markdown",
   "metadata": {},
   "source": [
    "## Topic Recognition\n",
    "Topic Recognition using LDA"
   ]
  },
  {
   "cell_type": "markdown",
   "metadata": {},
   "source": [
    "In this section, we will analyze reviews of few specific seafood restaurants to find topics from their reviews <br>"
   ]
  },
  {
   "cell_type": "code",
   "execution_count": 3,
   "metadata": {
    "scrolled": true
   },
   "outputs": [],
   "source": [
    "restaurant_id_set = set()\n",
    "with open(source_data_path+\"yelp_academic_dataset_business.json\", encoding='utf_8') as business_json_file:\n",
    "    for line_no, business_json in enumerate(business_json_file):\n",
    "        if line_no > 50000:\n",
    "            break\n",
    "        else:\n",
    "            business_record = json.loads(business_json)\n",
    "            \n",
    "            #Check whether the business is a restaurant\n",
    "            if business_record[u'categories'] is not None:\n",
    "                if u'restaurants' in business_record[u'categories'].lower() \\\n",
    "                and u'seafood' in business_record[u'categories'].lower():\n",
    "                    #print(business_record[u'categories'])\n",
    "                    restaurant_id_set.add(business_record[u'business_id'])\n",
    "                else:                    \n",
    "                    continue  "
   ]
  },
  {
   "cell_type": "code",
   "execution_count": 5,
   "metadata": {
    "scrolled": true
   },
   "outputs": [
    {
     "data": {
      "text/plain": [
       "71"
      ]
     },
     "execution_count": 5,
     "metadata": {},
     "output_type": "execute_result"
    }
   ],
   "source": [
    "gc.collect()"
   ]
  },
  {
   "cell_type": "code",
   "execution_count": 16,
   "metadata": {
    "scrolled": true
   },
   "outputs": [
    {
     "name": "stdout",
     "output_type": "stream",
     "text": [
      "Total number of reviews:  74886\n"
     ]
    }
   ],
   "source": [
    "## Collect reviews for the restaurants in the set\n",
    "## Data Preparation\n",
    "if True:\n",
    "    review_count=0\n",
    "    \n",
    "    # Write the reviews in text format. \n",
    "    with open(intermediate_data_path+\"yelp_restaurants_reviews_topic_recognition.txt\", 'w' ,encoding='utf_8') as review_txt_file:\n",
    "        with open(source_data_path+\"yelp_academic_dataset_review.json\", encoding='utf_8') as review_json_file:\n",
    "            for line_no, review_json in enumerate(review_json_file):\n",
    "                if line_no > 1500000:\n",
    "                    break\n",
    "                else:\n",
    "                    review_record=json.loads(review_json)\n",
    "\n",
    "                    #Check if the review is about a restaurant\n",
    "                    if review_record[u'business_id'] not in restaurant_id_set:\n",
    "                        continue\n",
    "                    #Write restaurant review as a line in the new file\n",
    "                    #escape new line characters in the original review file\n",
    "                    if int(review_record[u'stars']) in [4,5]:\n",
    "                        review='P'\n",
    "                    else:\n",
    "                        review='N'\n",
    "                    \n",
    "                    review_txt_file.write('#$#'.join((str(int(review_record[u'stars'])), review, review_record[u'review_id'], review_record[u'business_id'], review_record[u'user_id'], review_record[u'text'].replace('\\n', '\\\\n')+'\\n')))\n",
    "                    \n",
    "                    review_count+=1\n",
    "    print(\"Total number of reviews: \", review_count) "
   ]
  },
  {
   "cell_type": "markdown",
   "metadata": {},
   "source": [
    "Now, lets try to find out find businesses with at least 1000 reviews\n",
    "Total 74,886 reviews"
   ]
  },
  {
   "cell_type": "code",
   "execution_count": 121,
   "metadata": {
    "scrolled": true
   },
   "outputs": [],
   "source": [
    "reviews_source=pd.DataFrame()\n",
    "ratings=[]\n",
    "reviews_text=[]\n",
    "business_ids=[]\n",
    "user_ids=[]\n",
    "with open( os.path.join(intermediate_data_path,\"yelp_restaurants_reviews_topic_recognition_rev.txt\") ,\"r\", encoding='utf_8') as fin:\n",
    "    for line_no, line in enumerate(fin):\n",
    "        #print(line_no)\n",
    "        text = line.strip().split('#$#')\n",
    "        ratings.append(text[1]) \n",
    "        business_ids.append(text[3])\n",
    "        user_ids.append(text[4])\n",
    "reviews_source['rating']= ratings\n",
    "reviews_source['business_id']= business_ids\n",
    "reviews_source['user_id']= user_ids"
   ]
  },
  {
   "cell_type": "code",
   "execution_count": 123,
   "metadata": {
    "scrolled": true
   },
   "outputs": [
    {
     "data": {
      "text/plain": [
       "yNPh5SO-7wr8HPpVCDPbXQ    2006\n",
       "u4sTiCzVeIHZY8OlaL346Q    1657\n",
       "rTS8LsUmNIiXsXydE49tPA    1525\n",
       "S-oLPRdhlyL5HAknBKTUcQ    1139\n",
       "T2tEMLpTeSMxLKpxwFdS3g    1129\n",
       "YRyYbOSwvHkZsZOLv98oQg    1101\n",
       "vx4YAA02Qz6khRD1fZ1MFA    1046\n",
       "LYWbyu1EQM2o5hwHG5_Ldg     958\n",
       "TkEMlu88OZn9TKZyeY9CJg     927\n",
       "pik4ebdFa0UcUhnNkivFcg     889\n",
       "6xgcHeLad-VaoTIQewK84A     857\n",
       "Q7m8G4579-XYKV3LMW8V7g     847\n",
       "rvnTFEq7R2ZHg0_CYbBNFw     841\n",
       "p3YqOYELqXtLyHz9T49p_w     796\n",
       "bjSC_jbrypke0l-bXXBmwQ     716\n",
       "I-5qHCVwT7k_KH67-YOx3A     679\n",
       "Ak08F6RqjHYmVCzweBbTrQ     667\n",
       "ghDNHpqETRJGxG5iUtaZtw     634\n",
       "STtrEGylaYOXoXQFLP5OAQ     630\n",
       "XwJ6fZRVbxQYRsryy4-qDw     599\n",
       "Name: business_id, dtype: int64"
      ]
     },
     "execution_count": 123,
     "metadata": {},
     "output_type": "execute_result"
    }
   ],
   "source": [
    "reviews_source['business_id'].value_counts()[:20]"
   ]
  },
  {
   "cell_type": "markdown",
   "metadata": {},
   "source": [
    "We will go ahead with topic recognition of business id: yNPh5SO-7wr8HPpVCDPbXQ\n",
    "For Topic Recognition, we consider ratings 1,2 and 3 as negative review and 4 or 5 as positive review."
   ]
  },
  {
   "cell_type": "code",
   "execution_count": 125,
   "metadata": {
    "scrolled": true
   },
   "outputs": [],
   "source": [
    "def grab_reviews(business_id):\n",
    "    reviews_df=pd.DataFrame()\n",
    "    ratings=[]\n",
    "    reviews_text=[]\n",
    "    with open( os.path.join(intermediate_data_path,\"yelp_restaurants_reviews_topic_recognition_rev.txt\") ,\"r\", encoding='utf_8') as fin:\n",
    "        for line_no, line in enumerate(fin):\n",
    "            text = line.strip().split('#$#')\n",
    "            if text[3] == business_id:\n",
    "                if text[1]=='P':\n",
    "                    rating_val=1\n",
    "                elif text[1]=='N':\n",
    "                    rating_val=0\n",
    "                ratings.append(rating_val)    \n",
    "                reviews_text.append(text[5].replace('\\\\n', '\\n'))\n",
    "    reviews_df['rating']= ratings\n",
    "    reviews_df['text']= reviews_text\n",
    "    return reviews_df"
   ]
  },
  {
   "cell_type": "code",
   "execution_count": 126,
   "metadata": {
    "scrolled": true
   },
   "outputs": [],
   "source": [
    "bus_reviews=grab_reviews('yNPh5SO-7wr8HPpVCDPbXQ')"
   ]
  },
  {
   "cell_type": "code",
   "execution_count": 128,
   "metadata": {
    "scrolled": true
   },
   "outputs": [
    {
     "data": {
      "text/html": [
       "<div>\n",
       "<style scoped>\n",
       "    .dataframe tbody tr th:only-of-type {\n",
       "        vertical-align: middle;\n",
       "    }\n",
       "\n",
       "    .dataframe tbody tr th {\n",
       "        vertical-align: top;\n",
       "    }\n",
       "\n",
       "    .dataframe thead th {\n",
       "        text-align: right;\n",
       "    }\n",
       "</style>\n",
       "<table border=\"1\" class=\"dataframe\">\n",
       "  <thead>\n",
       "    <tr style=\"text-align: right;\">\n",
       "      <th></th>\n",
       "      <th>rating</th>\n",
       "      <th>text</th>\n",
       "    </tr>\n",
       "  </thead>\n",
       "  <tbody>\n",
       "    <tr>\n",
       "      <th>0</th>\n",
       "      <td>1</td>\n",
       "      <td>First off food is DELICIOUS! By far my favorite restaurant in downtown Phoenix. I have tried so many different things from the menu and it never disappoints, but the Saturday night special Prime Rib and Horseradish Dauphinoise Potato is my favorite. Second, the service is amazing. Ian is my favorite waiter, will request him every time! He is so personable with a good sense of humor! He constantly is checking up to make sure everything is good (but not too much). He made the experience at the...</td>\n",
       "    </tr>\n",
       "    <tr>\n",
       "      <th>1</th>\n",
       "      <td>1</td>\n",
       "      <td>This is a tricky one. AB is a really cool looking spot, really nice decor and ambiance, comfy booths, it even smells like a new car.\\n\\nMy group was greeted promptly by smiling hosts, and seated in a nice booth. Drink orders were placed, and when our margaritas arrived, they were really, really off and tasted terrible. Even after stirring, and thinking positive thoughts- they just were off- not sweet enough, and didn't taste good. Our server was cool and he swapped them out for other stuff. ...</td>\n",
       "    </tr>\n",
       "    <tr>\n",
       "      <th>2</th>\n",
       "      <td>1</td>\n",
       "      <td>We got the chicken club and the prime rib dip!!! French fries and side salad!! It was yummy!!!!!!:) Only problem was not a kids menu. They will make a few items for the kids!!! The chicken tenders... The kids did not like them... Not your normal kid friendly kid coating!!!</td>\n",
       "    </tr>\n",
       "    <tr>\n",
       "      <th>3</th>\n",
       "      <td>0</td>\n",
       "      <td>I was not a fan of this location or the staff.  The food was sub par, the service was lacking, and overall it was not a good experience.  For the amount of $$ per dish I expect it to be prepared better</td>\n",
       "    </tr>\n",
       "    <tr>\n",
       "      <th>4</th>\n",
       "      <td>0</td>\n",
       "      <td>Our first stop in a wild bachelor party weekend around the Phoenix area. After doing some research for lunch I decided on the arrogant butcher. What a great name for a restaurant located in downtown Phoenix directly across from the Arizona Diamondbacks ball park. With a solid 4 stars and over 1200 reviews it had to be outstanding right? Unfortunately the arrogance overcame the actual experience that we received. Arriving during happy hour the restaurant was extremely dead, but spring break, ...</td>\n",
       "    </tr>\n",
       "  </tbody>\n",
       "</table>\n",
       "</div>"
      ],
      "text/plain": [
       "   rating  \\\n",
       "0       1   \n",
       "1       1   \n",
       "2       1   \n",
       "3       0   \n",
       "4       0   \n",
       "\n",
       "                                                                                                                                                                                                                                                                                                                                                                                                                                                                                                                  text  \n",
       "0  First off food is DELICIOUS! By far my favorite restaurant in downtown Phoenix. I have tried so many different things from the menu and it never disappoints, but the Saturday night special Prime Rib and Horseradish Dauphinoise Potato is my favorite. Second, the service is amazing. Ian is my favorite waiter, will request him every time! He is so personable with a good sense of humor! He constantly is checking up to make sure everything is good (but not too much). He made the experience at the...  \n",
       "1  This is a tricky one. AB is a really cool looking spot, really nice decor and ambiance, comfy booths, it even smells like a new car.\\n\\nMy group was greeted promptly by smiling hosts, and seated in a nice booth. Drink orders were placed, and when our margaritas arrived, they were really, really off and tasted terrible. Even after stirring, and thinking positive thoughts- they just were off- not sweet enough, and didn't taste good. Our server was cool and he swapped them out for other stuff. ...  \n",
       "2                                                                                                                                                                                                                                    We got the chicken club and the prime rib dip!!! French fries and side salad!! It was yummy!!!!!!:) Only problem was not a kids menu. They will make a few items for the kids!!! The chicken tenders... The kids did not like them... Not your normal kid friendly kid coating!!!  \n",
       "3                                                                                                                                                                                                                                                                                                            I was not a fan of this location or the staff.  The food was sub par, the service was lacking, and overall it was not a good experience.  For the amount of $$ per dish I expect it to be prepared better  \n",
       "4  Our first stop in a wild bachelor party weekend around the Phoenix area. After doing some research for lunch I decided on the arrogant butcher. What a great name for a restaurant located in downtown Phoenix directly across from the Arizona Diamondbacks ball park. With a solid 4 stars and over 1200 reviews it had to be outstanding right? Unfortunately the arrogance overcame the actual experience that we received. Arriving during happy hour the restaurant was extremely dead, but spring break, ...  "
      ]
     },
     "execution_count": 128,
     "metadata": {},
     "output_type": "execute_result"
    }
   ],
   "source": [
    "bus_reviews.head(5)"
   ]
  },
  {
   "cell_type": "code",
   "execution_count": 129,
   "metadata": {
    "scrolled": false
   },
   "outputs": [
    {
     "name": "stdout",
     "output_type": "stream",
     "text": [
      "1    0.848953\n",
      "0    0.151047\n",
      "Name: rating, dtype: float64\n"
     ]
    },
    {
     "data": {
      "image/png": "[encoded data removed]",
      "text/plain": [
       "<Figure size 432x288 with 1 Axes>"
      ]
     },
     "metadata": {},
     "output_type": "display_data"
    }
   ],
   "source": [
    "# Check the frequency of class variable\n",
    "print(bus_reviews.rating.value_counts(normalize=True))\n",
    "\n",
    "ax = sns.countplot(x=\"rating\", data=bus_reviews)\n",
    "plt.xlabel('Ratings',fontsize=18)\n",
    "plt.ylabel('Counts',fontsize=18)\n",
    "#plt.legend()\n",
    "plt.show(ax)"
   ]
  },
  {
   "cell_type": "markdown",
   "metadata": {},
   "source": [
    "It is an imbalanced problem."
   ]
  },
  {
   "cell_type": "code",
   "execution_count": 132,
   "metadata": {
    "scrolled": true
   },
   "outputs": [],
   "source": [
    "from sklearn.feature_extraction.text import TfidfVectorizer, CountVectorizer\n",
    "from sklearn.feature_extraction.text import TfidfVectorizer, CountVectorizer\n",
    "from sklearn.decomposition import NMF, LatentDirichletAllocation\n",
    "no_features = 1000"
   ]
  },
  {
   "cell_type": "code",
   "execution_count": 133,
   "metadata": {},
   "outputs": [],
   "source": [
    "bus_reviews['lemmatized_text']=lemmatize_set(bus_reviews.text)"
   ]
  },
  {
   "cell_type": "markdown",
   "metadata": {},
   "source": [
    "## Topics Generation from Positive Reviews"
   ]
  },
  {
   "cell_type": "code",
   "execution_count": 143,
   "metadata": {
    "scrolled": true
   },
   "outputs": [],
   "source": [
    "# Positive Reviews\n",
    "# NMF is able to use tf-idf\n",
    "tfidf_vectorizer = TfidfVectorizer(max_df=0.95, min_df=2, max_features=no_features, stop_words='english')\n",
    "tfidf = tfidf_vectorizer.fit_transform(bus_reviews.lemmatized_text[bus_reviews.rating==1])\n",
    "tfidf_feature_names = tfidf_vectorizer.get_feature_names()\n",
    "\n",
    "# LDA can only use raw term counts for LDA because it is a probabilistic graphical model\n",
    "tf_vectorizer = CountVectorizer(max_df=0.95, min_df=2, stop_words='english')\n",
    "tf = tf_vectorizer.fit_transform(bus_reviews.lemmatized_text[bus_reviews.rating==1])\n",
    "tf_feature_names = tf_vectorizer.get_feature_names()"
   ]
  },
  {
   "cell_type": "code",
   "execution_count": 144,
   "metadata": {
    "scrolled": true
   },
   "outputs": [
    {
     "name": "stderr",
     "output_type": "stream",
     "text": [
      "C:\\Users\\Mishraji\\Miniconda3\\envs\\py3\\lib\\site-packages\\sklearn\\decomposition\\online_lda.py:314: DeprecationWarning: n_topics has been renamed to n_components in version 0.19 and will be removed in 0.21\n",
      "  DeprecationWarning)\n"
     ]
    }
   ],
   "source": [
    "no_topics = 2\n",
    "\n",
    "no_top_documents = 2\n",
    "# Run NMF\n",
    "nmf_model = NMF(n_components=no_topics, random_state=1, alpha=.1, l1_ratio=.5, init='nndsvd').fit(tfidf)\n",
    "nmf_W = nmf_model.transform(tfidf)\n",
    "nmf_H = nmf_model.components_\n",
    "\n",
    "# Run LDA\n",
    "lda_model = LatentDirichletAllocation(n_topics=no_topics, max_iter=5, learning_method='online', learning_offset=50.,random_state=0).fit(tf)\n",
    "lda_W = lda_model.transform(tf)\n",
    "lda_H = lda_model.components_"
   ]
  },
  {
   "cell_type": "code",
   "execution_count": 147,
   "metadata": {
    "scrolled": true
   },
   "outputs": [
    {
     "name": "stdout",
     "output_type": "stream",
     "text": [
      "**********************\n",
      "NMF Model Topics\n",
      "**********************\n",
      "Topic 0:\n",
      "good order come really\n",
      "Topic 1:\n",
      "great food service place\n",
      "\n",
      "\n",
      "**********************\n",
      "LDA Model Topics\n",
      "**********************\n",
      "Topic 0:\n",
      "great cocktail orange make\n",
      "Topic 1:\n",
      "great good food place\n"
     ]
    }
   ],
   "source": [
    "def display_topics(model, feature_names, no_top_words):\n",
    "    for topic_idx, topic in enumerate(model.components_):\n",
    "        print(\"Topic %d:\" % (topic_idx))\n",
    "        print(\" \".join([feature_names[i]\n",
    "                        for i in topic.argsort()[:-no_top_words - 1:-1]]))\n",
    "no_top_words = 4\n",
    "print ('**********************')\n",
    "print ('NMF Model Topics')\n",
    "print ('**********************')\n",
    "display_topics(nmf_model, tfidf_feature_names, no_top_words)\n",
    "print ('\\n')\n",
    "print ('**********************')\n",
    "print ('LDA Model Topics')\n",
    "print ('**********************')\n",
    "display_topics(lda_model, tf_feature_names, no_top_words)"
   ]
  },
  {
   "cell_type": "code",
   "execution_count": 148,
   "metadata": {
    "scrolled": true
   },
   "outputs": [],
   "source": [
    "def display_topics(H, W, feature_names, documents, no_top_words, no_top_documents):\n",
    "    for topic_idx, topic in enumerate(H):\n",
    "        print(\"Topic %d:\" % (topic_idx))\n",
    "        print(\" \".join([feature_names[i]\n",
    "                        for i in topic.argsort()[:-no_top_words - 1:-1]]))\n",
    "        top_doc_indices = np.argsort( W[:,topic_idx] )[::-1][0:no_top_documents]\n",
    "        for doc_index in top_doc_indices:\n",
    "            print(documents[doc_index])"
   ]
  },
  {
   "cell_type": "code",
   "execution_count": 149,
   "metadata": {
    "scrolled": false
   },
   "outputs": [
    {
     "name": "stdout",
     "output_type": "stream",
     "text": [
      "Topic 0:\n",
      "good order come really\n",
      "I'm not sure why people find this place appealing. Our table had 7 different entrees and the butchers plate. The entrees came well before the appetizer and the only one of them that was decently good was the hamburger. Way overpriced with mediocre service and unimpressive steaks and seafood. I would not eat here again, even if the prices were slashed in half\n",
      "We have heard a lot about this place and were finally able to go.. Service was friendly and fast and food was good. We got the jambolaya and the fish and chips which were both really good. The best part of our meal was the dessert.. We got the salted carmel pudding and it was sooo good! We would go back just for that dessert! Everything tasted nice and fresh it was excellent.\n",
      "Topic 1:\n",
      "great food service place\n",
      "This was great...my husband had the double cheese burger and I had the jambalaya very good....the house made bun, was the perfect touch for the perfectly cooked med rate burger. The jambalaya was full of fresh okra (not slimy), red n green bell peppers, onions, chicken and sausage. Piping hot and delicious ...if u need more sauce for your jambalaya just ask for it, our server Steve was wonderful, knew everything about the menu!\n",
      "The pretzel and cheese appetizer was awesome! Service was awesome! Quick during a busy lunch. The hubby had pastrami sandwich which he loved. I had fish and chips. The fish was so greasy! I was really bummed! I would come back again to just try the appetizers which all\n",
      "Looked yummy.\n"
     ]
    }
   ],
   "source": [
    "display_topics(nmf_H, nmf_W, tfidf_feature_names, bus_reviews.text, no_top_words, no_top_documents)"
   ]
  },
  {
   "cell_type": "code",
   "execution_count": 150,
   "metadata": {
    "scrolled": true
   },
   "outputs": [
    {
     "name": "stdout",
     "output_type": "stream",
     "text": [
      "Topic 0:\n",
      "great cocktail orange make\n",
      "I'll be honest, Phoenix is the first city I've been to where yelp steered me wrong on almost all occasions. Arrogant Butcher fits that. We arrived on a Friday night, it was busy, understandably, so instead of waiting 45 minutes we sat at the bar.\n",
      "\n",
      "Luckily there were menus at the seats because the bartender couldn't be bothered. He was obviously out of his element. We waited a good 8-10 minutes before he even \"greeted\" us. The greeting was, what do you want. Literally. That is what he said. This dude had no business being behind the bar, he was a dick, flat out. Other customers got the same treatment. Maybe he was a fill in for someone who called out, but there should have been 2 bartenders doing service drinks and taking care of the bar guests. I asked for an IPA his response \"which one\", aggressively, like I was an inconvenience to him and his poor bartending skills.\n",
      "\n",
      "We ordered food, my colleague ordered a salad and I the burger. The burger was meh at best. The patty had zero flavor and really all I tasted was whatever mustard style sauce they had on it. The fries were good, I'll say that. Of course our jolly bartender never checked in only when both our drinks were empty and food done.\n",
      "\n",
      "Maybe table service is better, maybe the entrees are better, but I'd skip this place in a heartbeat.\n",
      "Food, service, ambiance and location is great . I got kale salad with chicken n my hubby got NY steak. I was so happy with my food. Our waiter, micheal helped us with wine list n he recommended a new cab,Zin,Syrah which was a great pick! I highly recommend this place. They have a private room with tv for groups\n",
      "Topic 1:\n",
      "great good food place\n",
      "Ask for Chip ... it's really like going to Disneyland, except it's restaurant.  Great, knowledgable service, good food ... fun times.\n",
      "Elecka was our server at the Arrogant Butcher for lunch! What a delight! Very knowledgeable with the menu and food was amazing. It was our first time here and from the host stand to management, dining was superb! Suggest the Butcher's platter and ribs. Amazing time!!! Can't wait to come back.\n"
     ]
    }
   ],
   "source": [
    "display_topics(lda_H, lda_W, tf_feature_names, bus_reviews.text, no_top_words, no_top_documents)"
   ]
  },
  {
   "cell_type": "markdown",
   "metadata": {},
   "source": [
    "## Topics Generation from Negative Reviews"
   ]
  },
  {
   "cell_type": "code",
   "execution_count": 151,
   "metadata": {
    "scrolled": true
   },
   "outputs": [],
   "source": [
    "# Positive Reviews\n",
    "# NMF is able to use tf-idf\n",
    "tfidf_vectorizer = TfidfVectorizer(max_df=0.95, min_df=2, max_features=no_features, stop_words='english')\n",
    "tfidf = tfidf_vectorizer.fit_transform(bus_reviews.lemmatized_text[bus_reviews.rating==0])\n",
    "tfidf_feature_names = tfidf_vectorizer.get_feature_names()\n",
    "\n",
    "# LDA can only use raw term counts for LDA because it is a probabilistic graphical model\n",
    "tf_vectorizer = CountVectorizer(max_df=0.95, min_df=2, stop_words='english')\n",
    "tf = tf_vectorizer.fit_transform(bus_reviews.lemmatized_text[bus_reviews.rating==0])\n",
    "tf_feature_names = tf_vectorizer.get_feature_names()"
   ]
  },
  {
   "cell_type": "code",
   "execution_count": 154,
   "metadata": {
    "scrolled": true
   },
   "outputs": [
    {
     "name": "stderr",
     "output_type": "stream",
     "text": [
      "C:\\Users\\Mishraji\\Miniconda3\\envs\\py3\\lib\\site-packages\\sklearn\\decomposition\\online_lda.py:314: DeprecationWarning: n_topics has been renamed to n_components in version 0.19 and will be removed in 0.21\n",
      "  DeprecationWarning)\n"
     ]
    }
   ],
   "source": [
    "no_topics = 2\n",
    "no_top_documents = 2\n",
    "\n",
    "# Run NMF\n",
    "nmf_model = NMF(n_components=no_topics, random_state=1, alpha=.1, l1_ratio=.5, init='nndsvd').fit(tfidf)\n",
    "nmf_W = nmf_model.transform(tfidf)\n",
    "nmf_H = nmf_model.components_\n",
    "\n",
    "# Run LDA\n",
    "lda_model = LatentDirichletAllocation(n_topics=no_topics, max_iter=5, learning_method='online', learning_offset=50.,random_state=0).fit(tf)\n",
    "lda_W = lda_model.transform(tf)\n",
    "lda_H = lda_model.components_"
   ]
  },
  {
   "cell_type": "code",
   "execution_count": 155,
   "metadata": {
    "scrolled": true
   },
   "outputs": [
    {
     "name": "stdout",
     "output_type": "stream",
     "text": [
      "**********************\n",
      "NMF Model Topics\n",
      "**********************\n",
      "Topic 0:\n",
      "food good place service\n",
      "Topic 1:\n",
      "wait minutes table seat\n",
      "\n",
      "\n",
      "**********************\n",
      "LDA Model Topics\n",
      "**********************\n",
      "Topic 0:\n",
      "food good time service\n",
      "Topic 1:\n",
      "food good order place\n"
     ]
    }
   ],
   "source": [
    "def display_topics(model, feature_names, no_top_words):\n",
    "    for topic_idx, topic in enumerate(model.components_):\n",
    "        print(\"Topic %d:\" % (topic_idx))\n",
    "        print(\" \".join([feature_names[i]\n",
    "                        for i in topic.argsort()[:-no_top_words - 1:-1]]))\n",
    "no_top_words = 4\n",
    "print ('**********************')\n",
    "print ('NMF Model Topics')\n",
    "print ('**********************')\n",
    "display_topics(nmf_model, tfidf_feature_names, no_top_words)\n",
    "print ('\\n')\n",
    "print ('**********************')\n",
    "print ('LDA Model Topics')\n",
    "print ('**********************')\n",
    "display_topics(lda_model, tf_feature_names, no_top_words)"
   ]
  },
  {
   "cell_type": "code",
   "execution_count": 156,
   "metadata": {
    "scrolled": true
   },
   "outputs": [],
   "source": [
    "def display_topics(H, W, feature_names, documents, no_top_words, no_top_documents):\n",
    "    for topic_idx, topic in enumerate(H):\n",
    "        print(\"Topic %d:\" % (topic_idx))\n",
    "        print(\" \".join([feature_names[i]\n",
    "                        for i in topic.argsort()[:-no_top_words - 1:-1]]))\n",
    "        top_doc_indices = np.argsort( W[:,topic_idx] )[::-1][0:no_top_documents]\n",
    "        for doc_index in top_doc_indices:\n",
    "            print(documents[doc_index])"
   ]
  },
  {
   "cell_type": "code",
   "execution_count": 157,
   "metadata": {
    "scrolled": true
   },
   "outputs": [
    {
     "name": "stdout",
     "output_type": "stream",
     "text": [
      "Topic 0:\n",
      "food good place service\n",
      "We have been to almost all the fox restaurants here in Phoenix and have never been disappointed. This was the first time we were. Most of the food items were outstanding. My husband had the jambalaya our friends had the New York strip, and we shared the pretzel fondue and the mussels.  Plus for desert we all had the salted caramel pudding. All of these items were delicious. I had the carnitas and it was very mediocre. There was hardly any meat and it was in round balls, the corn cakes were slightly burnt, and the greens over powered the flavors. The service was alright he kept leaving too quickly and we ended up having to ask other waiters for things. This might be a one off situation so I would go back again and hopefully wont be disapointed.\n",
      "The atmosphere is totally cool. If you're looking for an awesome place to eat in Phoenix, this is it. We were there over the holiday weekend and it seemed like everything was closed, but this place was hopping. The service was excellent. We highly recommend the pretzel appetizer, and the Turkey Sloppy Joe.\n",
      "Topic 1:\n",
      "wait minutes table seat\n",
      "We visited this past weekend. It took on hour to receive our meal and two of the dishes were cold. The waiter was bad but gave us free dessert to make up for the food and service. The peanut butter cup gelato was inedible. Tiny scoop of gelato with peanut butter slop on top. Not sure if the restaurant just had a staffing issue or what but we'd never go back.\n",
      "Went there last night, got the meatloaf and simple chopped salad and both were delicious! Loved the vinaigrette on the salad!  The meatloaf was nice and moist, on a smooth potato purée. Maybe the sauce on the meatloaf was a little on the sweet side, but I didn't hate it. \n",
      "Great service, nice ambiance, and the $5 wine for happy hour wasn't awful. I'd totally go back!\n"
     ]
    }
   ],
   "source": [
    "display_topics(nmf_H, nmf_W, tfidf_feature_names, bus_reviews.text, no_top_words, no_top_documents)"
   ]
  },
  {
   "cell_type": "code",
   "execution_count": 158,
   "metadata": {
    "scrolled": true
   },
   "outputs": [
    {
     "name": "stdout",
     "output_type": "stream",
     "text": [
      "Topic 0:\n",
      "food good time service\n",
      "I really wanted to like this restaurant after seeing all the great pictures and reviews on Yelp. I was here on a Sunday night and the kitchen was slammed. They were sold out of the pasta dish I wanted and it took an hour (not exaggerating) for our plates to arrive. \n",
      "\n",
      "My friend told me you should never order seafood in the desert. Now I know why, because my salmon was so overcooked and dry that I had to ask for extra lemons just to make the taste bearable. My colleagues had burgers and a kale bowl and only 2/6 of us enjoyed our dinner.\n",
      "\n",
      "Maybe it was an off night during our visit, but our experience was really disappointing. Although our server tried to be nice about the slow service, he did not really do anything to make up for it.\n",
      "We came in this weekend and at at the bar\n",
      "For 20min. No on\n",
      "Even made eye contact with us. But I gave\n",
      "Them the benefit, there were 4 of us so we were visible. We went upstairs to tilted kilt\n",
      "Topic 1:\n",
      "food good order place\n",
      "If you enjoy great service and delicious food this restaurant will not disappoint! I tried the chicken stuffed crab and it was delicious! The overall experience was pretty impressive! Looking forward to trying another dish soon.\n",
      "We have been to almost all the fox restaurants here in Phoenix and have never been disappointed. This was the first time we were. Most of the food items were outstanding. My husband had the jambalaya our friends had the New York strip, and we shared the pretzel fondue and the mussels.  Plus for desert we all had the salted caramel pudding. All of these items were delicious. I had the carnitas and it was very mediocre. There was hardly any meat and it was in round balls, the corn cakes were slightly burnt, and the greens over powered the flavors. The service was alright he kept leaving too quickly and we ended up having to ask other waiters for things. This might be a one off situation so I would go back again and hopefully wont be disapointed.\n"
     ]
    }
   ],
   "source": [
    "display_topics(lda_H, lda_W, tf_feature_names, bus_reviews.text, no_top_words, no_top_documents)"
   ]
  },
  {
   "cell_type": "code",
   "execution_count": null,
   "metadata": {},
   "outputs": [],
   "source": []
  },
  {
   "cell_type": "code",
   "execution_count": null,
   "metadata": {
    "scrolled": true
   },
   "outputs": [],
   "source": [
    "# THE END"
   ]
  }
 ],
 "metadata": {
  "kernelspec": {
   "display_name": "Python 3",
   "language": "python",
   "name": "python3"
  },
  "language_info": {
   "codemirror_mode": {
    "name": "ipython",
    "version": 3
   },
   "file_extension": ".py",
   "mimetype": "text/x-python",
   "name": "python",
   "nbconvert_exporter": "python",
   "pygments_lexer": "ipython3",
   "version": "3.7.2"
  }
 },
 "nbformat": 4,
 "nbformat_minor": 2
}
